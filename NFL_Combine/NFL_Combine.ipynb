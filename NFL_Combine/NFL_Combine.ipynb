{
 "cells": [
  {
   "cell_type": "code",
   "execution_count": 1,
   "id": "2496e3df",
   "metadata": {},
   "outputs": [],
   "source": [
    "import pandas as pd\n",
    "from sklearn.model_selection import train_test_split\n",
    "from sklearn.preprocessing import StandardScaler\n",
    "from sklearn.linear_model import LinearRegression, LogisticRegression\n",
    "import sklearn.metrics as metrics"
   ]
  },
  {
   "cell_type": "code",
   "execution_count": 2,
   "id": "8548ca28",
   "metadata": {},
   "outputs": [],
   "source": [
    "combine = pd.read_csv('C:/Users/blain/Desktop/DSC680/NFL.csv')\n",
    "pd.set_option('display.max_columns', None)"
   ]
  },
  {
   "cell_type": "code",
   "execution_count": 3,
   "id": "d2df977f",
   "metadata": {},
   "outputs": [
    {
     "data": {
      "text/html": [
       "<div>\n",
       "<style scoped>\n",
       "    .dataframe tbody tr th:only-of-type {\n",
       "        vertical-align: middle;\n",
       "    }\n",
       "\n",
       "    .dataframe tbody tr th {\n",
       "        vertical-align: top;\n",
       "    }\n",
       "\n",
       "    .dataframe thead th {\n",
       "        text-align: right;\n",
       "    }\n",
       "</style>\n",
       "<table border=\"1\" class=\"dataframe\">\n",
       "  <thead>\n",
       "    <tr style=\"text-align: right;\">\n",
       "      <th></th>\n",
       "      <th>Year</th>\n",
       "      <th>Player</th>\n",
       "      <th>Age</th>\n",
       "      <th>School</th>\n",
       "      <th>Height</th>\n",
       "      <th>Weight</th>\n",
       "      <th>Sprint_40yd</th>\n",
       "      <th>Vertical_Jump</th>\n",
       "      <th>Bench_Press_Reps</th>\n",
       "      <th>Broad_Jump</th>\n",
       "      <th>Agility_3cone</th>\n",
       "      <th>Shuttle</th>\n",
       "      <th>Drafted..tm.rnd.yr.</th>\n",
       "      <th>BMI</th>\n",
       "      <th>Player_Type</th>\n",
       "      <th>Position_Type</th>\n",
       "      <th>Position</th>\n",
       "      <th>Drafted</th>\n",
       "    </tr>\n",
       "  </thead>\n",
       "  <tbody>\n",
       "    <tr>\n",
       "      <th>0</th>\n",
       "      <td>2009</td>\n",
       "      <td>Beanie Wells\\WellCh00</td>\n",
       "      <td>20.0</td>\n",
       "      <td>Ohio St.</td>\n",
       "      <td>1.8542</td>\n",
       "      <td>106.594207</td>\n",
       "      <td>4.38</td>\n",
       "      <td>85.09</td>\n",
       "      <td>25.0</td>\n",
       "      <td>325.12</td>\n",
       "      <td>NaN</td>\n",
       "      <td>NaN</td>\n",
       "      <td>Arizona Cardinals / 1st / 31st pick / 2009</td>\n",
       "      <td>31.004194</td>\n",
       "      <td>offense</td>\n",
       "      <td>backs_receivers</td>\n",
       "      <td>RB</td>\n",
       "      <td>Yes</td>\n",
       "    </tr>\n",
       "    <tr>\n",
       "      <th>1</th>\n",
       "      <td>2009</td>\n",
       "      <td>Will Davis\\DaviWi99</td>\n",
       "      <td>22.0</td>\n",
       "      <td>Illinois</td>\n",
       "      <td>1.8796</td>\n",
       "      <td>118.387609</td>\n",
       "      <td>4.84</td>\n",
       "      <td>83.82</td>\n",
       "      <td>27.0</td>\n",
       "      <td>292.10</td>\n",
       "      <td>7.38</td>\n",
       "      <td>4.45</td>\n",
       "      <td>Arizona Cardinals / 6th / 204th pick / 2009</td>\n",
       "      <td>33.510073</td>\n",
       "      <td>defense</td>\n",
       "      <td>defensive_lineman</td>\n",
       "      <td>DE</td>\n",
       "      <td>Yes</td>\n",
       "    </tr>\n",
       "    <tr>\n",
       "      <th>2</th>\n",
       "      <td>2009</td>\n",
       "      <td>Herman Johnson\\JohnHe23</td>\n",
       "      <td>24.0</td>\n",
       "      <td>LSU</td>\n",
       "      <td>2.0066</td>\n",
       "      <td>165.107623</td>\n",
       "      <td>5.50</td>\n",
       "      <td>NaN</td>\n",
       "      <td>21.0</td>\n",
       "      <td>NaN</td>\n",
       "      <td>NaN</td>\n",
       "      <td>NaN</td>\n",
       "      <td>Arizona Cardinals / 5th / 167th pick / 2009</td>\n",
       "      <td>41.005821</td>\n",
       "      <td>offense</td>\n",
       "      <td>offensive_lineman</td>\n",
       "      <td>OG</td>\n",
       "      <td>Yes</td>\n",
       "    </tr>\n",
       "    <tr>\n",
       "      <th>3</th>\n",
       "      <td>2009</td>\n",
       "      <td>Rashad Johnson\\JohnRa98</td>\n",
       "      <td>23.0</td>\n",
       "      <td>Alabama</td>\n",
       "      <td>1.8034</td>\n",
       "      <td>92.079251</td>\n",
       "      <td>4.49</td>\n",
       "      <td>93.98</td>\n",
       "      <td>15.0</td>\n",
       "      <td>304.80</td>\n",
       "      <td>7.09</td>\n",
       "      <td>4.23</td>\n",
       "      <td>Arizona Cardinals / 3rd / 95th pick / 2009</td>\n",
       "      <td>28.312463</td>\n",
       "      <td>defense</td>\n",
       "      <td>defensive_back</td>\n",
       "      <td>FS</td>\n",
       "      <td>Yes</td>\n",
       "    </tr>\n",
       "    <tr>\n",
       "      <th>4</th>\n",
       "      <td>2009</td>\n",
       "      <td>Cody Brown\\BrowCo96</td>\n",
       "      <td>22.0</td>\n",
       "      <td>Connecticut</td>\n",
       "      <td>1.8796</td>\n",
       "      <td>110.676538</td>\n",
       "      <td>4.76</td>\n",
       "      <td>92.71</td>\n",
       "      <td>26.0</td>\n",
       "      <td>304.80</td>\n",
       "      <td>7.10</td>\n",
       "      <td>4.40</td>\n",
       "      <td>Arizona Cardinals / 2nd / 63rd pick / 2009</td>\n",
       "      <td>31.327425</td>\n",
       "      <td>defense</td>\n",
       "      <td>line_backer</td>\n",
       "      <td>OLB</td>\n",
       "      <td>Yes</td>\n",
       "    </tr>\n",
       "    <tr>\n",
       "      <th>...</th>\n",
       "      <td>...</td>\n",
       "      <td>...</td>\n",
       "      <td>...</td>\n",
       "      <td>...</td>\n",
       "      <td>...</td>\n",
       "      <td>...</td>\n",
       "      <td>...</td>\n",
       "      <td>...</td>\n",
       "      <td>...</td>\n",
       "      <td>...</td>\n",
       "      <td>...</td>\n",
       "      <td>...</td>\n",
       "      <td>...</td>\n",
       "      <td>...</td>\n",
       "      <td>...</td>\n",
       "      <td>...</td>\n",
       "      <td>...</td>\n",
       "      <td>...</td>\n",
       "    </tr>\n",
       "    <tr>\n",
       "      <th>3472</th>\n",
       "      <td>2019</td>\n",
       "      <td>Xavier Crawford</td>\n",
       "      <td>NaN</td>\n",
       "      <td>Central Michigan</td>\n",
       "      <td>1.8034</td>\n",
       "      <td>84.821773</td>\n",
       "      <td>4.48</td>\n",
       "      <td>95.25</td>\n",
       "      <td>11.0</td>\n",
       "      <td>NaN</td>\n",
       "      <td>NaN</td>\n",
       "      <td>NaN</td>\n",
       "      <td>NaN</td>\n",
       "      <td>26.080939</td>\n",
       "      <td>defense</td>\n",
       "      <td>defensive_back</td>\n",
       "      <td>CB</td>\n",
       "      <td>No</td>\n",
       "    </tr>\n",
       "    <tr>\n",
       "      <th>3473</th>\n",
       "      <td>2019</td>\n",
       "      <td>Jordan Brown</td>\n",
       "      <td>NaN</td>\n",
       "      <td>South Dakota St.</td>\n",
       "      <td>1.8288</td>\n",
       "      <td>91.172066</td>\n",
       "      <td>4.51</td>\n",
       "      <td>100.33</td>\n",
       "      <td>13.0</td>\n",
       "      <td>325.12</td>\n",
       "      <td>NaN</td>\n",
       "      <td>NaN</td>\n",
       "      <td>NaN</td>\n",
       "      <td>27.260221</td>\n",
       "      <td>defense</td>\n",
       "      <td>defensive_back</td>\n",
       "      <td>CB</td>\n",
       "      <td>No</td>\n",
       "    </tr>\n",
       "    <tr>\n",
       "      <th>3474</th>\n",
       "      <td>2019</td>\n",
       "      <td>Corey Ballentine</td>\n",
       "      <td>NaN</td>\n",
       "      <td>Washburn</td>\n",
       "      <td>1.8034</td>\n",
       "      <td>88.904105</td>\n",
       "      <td>4.47</td>\n",
       "      <td>100.33</td>\n",
       "      <td>15.0</td>\n",
       "      <td>342.90</td>\n",
       "      <td>6.82</td>\n",
       "      <td>4.14</td>\n",
       "      <td>NaN</td>\n",
       "      <td>27.336171</td>\n",
       "      <td>defense</td>\n",
       "      <td>defensive_back</td>\n",
       "      <td>CB</td>\n",
       "      <td>No</td>\n",
       "    </tr>\n",
       "    <tr>\n",
       "      <th>3475</th>\n",
       "      <td>2019</td>\n",
       "      <td>Ugo Amadi</td>\n",
       "      <td>NaN</td>\n",
       "      <td>Oregon</td>\n",
       "      <td>1.7526</td>\n",
       "      <td>90.264882</td>\n",
       "      <td>4.51</td>\n",
       "      <td>82.55</td>\n",
       "      <td>18.0</td>\n",
       "      <td>292.10</td>\n",
       "      <td>7.21</td>\n",
       "      <td>4.19</td>\n",
       "      <td>NaN</td>\n",
       "      <td>29.386861</td>\n",
       "      <td>defense</td>\n",
       "      <td>defensive_back</td>\n",
       "      <td>S</td>\n",
       "      <td>No</td>\n",
       "    </tr>\n",
       "    <tr>\n",
       "      <th>3476</th>\n",
       "      <td>2019</td>\n",
       "      <td>Nasir Adderley</td>\n",
       "      <td>NaN</td>\n",
       "      <td>Delaware</td>\n",
       "      <td>1.8288</td>\n",
       "      <td>93.440028</td>\n",
       "      <td>NaN</td>\n",
       "      <td>NaN</td>\n",
       "      <td>NaN</td>\n",
       "      <td>NaN</td>\n",
       "      <td>NaN</td>\n",
       "      <td>NaN</td>\n",
       "      <td>NaN</td>\n",
       "      <td>27.938336</td>\n",
       "      <td>defense</td>\n",
       "      <td>defensive_back</td>\n",
       "      <td>S</td>\n",
       "      <td>No</td>\n",
       "    </tr>\n",
       "  </tbody>\n",
       "</table>\n",
       "<p>3477 rows × 18 columns</p>\n",
       "</div>"
      ],
      "text/plain": [
       "      Year                   Player   Age            School  Height  \\\n",
       "0     2009    Beanie Wells\\WellCh00  20.0          Ohio St.  1.8542   \n",
       "1     2009      Will Davis\\DaviWi99  22.0          Illinois  1.8796   \n",
       "2     2009  Herman Johnson\\JohnHe23  24.0               LSU  2.0066   \n",
       "3     2009  Rashad Johnson\\JohnRa98  23.0           Alabama  1.8034   \n",
       "4     2009      Cody Brown\\BrowCo96  22.0       Connecticut  1.8796   \n",
       "...    ...                      ...   ...               ...     ...   \n",
       "3472  2019          Xavier Crawford   NaN  Central Michigan  1.8034   \n",
       "3473  2019             Jordan Brown   NaN  South Dakota St.  1.8288   \n",
       "3474  2019         Corey Ballentine   NaN          Washburn  1.8034   \n",
       "3475  2019                Ugo Amadi   NaN            Oregon  1.7526   \n",
       "3476  2019           Nasir Adderley   NaN          Delaware  1.8288   \n",
       "\n",
       "          Weight  Sprint_40yd  Vertical_Jump  Bench_Press_Reps  Broad_Jump  \\\n",
       "0     106.594207         4.38          85.09              25.0      325.12   \n",
       "1     118.387609         4.84          83.82              27.0      292.10   \n",
       "2     165.107623         5.50            NaN              21.0         NaN   \n",
       "3      92.079251         4.49          93.98              15.0      304.80   \n",
       "4     110.676538         4.76          92.71              26.0      304.80   \n",
       "...          ...          ...            ...               ...         ...   \n",
       "3472   84.821773         4.48          95.25              11.0         NaN   \n",
       "3473   91.172066         4.51         100.33              13.0      325.12   \n",
       "3474   88.904105         4.47         100.33              15.0      342.90   \n",
       "3475   90.264882         4.51          82.55              18.0      292.10   \n",
       "3476   93.440028          NaN            NaN               NaN         NaN   \n",
       "\n",
       "      Agility_3cone  Shuttle                          Drafted..tm.rnd.yr.  \\\n",
       "0               NaN      NaN   Arizona Cardinals / 1st / 31st pick / 2009   \n",
       "1              7.38     4.45  Arizona Cardinals / 6th / 204th pick / 2009   \n",
       "2               NaN      NaN  Arizona Cardinals / 5th / 167th pick / 2009   \n",
       "3              7.09     4.23   Arizona Cardinals / 3rd / 95th pick / 2009   \n",
       "4              7.10     4.40   Arizona Cardinals / 2nd / 63rd pick / 2009   \n",
       "...             ...      ...                                          ...   \n",
       "3472            NaN      NaN                                          NaN   \n",
       "3473            NaN      NaN                                          NaN   \n",
       "3474           6.82     4.14                                          NaN   \n",
       "3475           7.21     4.19                                          NaN   \n",
       "3476            NaN      NaN                                          NaN   \n",
       "\n",
       "            BMI Player_Type      Position_Type Position Drafted  \n",
       "0     31.004194     offense    backs_receivers       RB     Yes  \n",
       "1     33.510073     defense  defensive_lineman       DE     Yes  \n",
       "2     41.005821     offense  offensive_lineman       OG     Yes  \n",
       "3     28.312463     defense     defensive_back       FS     Yes  \n",
       "4     31.327425     defense        line_backer      OLB     Yes  \n",
       "...         ...         ...                ...      ...     ...  \n",
       "3472  26.080939     defense     defensive_back       CB      No  \n",
       "3473  27.260221     defense     defensive_back       CB      No  \n",
       "3474  27.336171     defense     defensive_back       CB      No  \n",
       "3475  29.386861     defense     defensive_back        S      No  \n",
       "3476  27.938336     defense     defensive_back        S      No  \n",
       "\n",
       "[3477 rows x 18 columns]"
      ]
     },
     "execution_count": 3,
     "metadata": {},
     "output_type": "execute_result"
    }
   ],
   "source": [
    "combine"
   ]
  },
  {
   "cell_type": "code",
   "execution_count": 4,
   "id": "48ee50e2",
   "metadata": {},
   "outputs": [
    {
     "data": {
      "text/html": [
       "<div>\n",
       "<style scoped>\n",
       "    .dataframe tbody tr th:only-of-type {\n",
       "        vertical-align: middle;\n",
       "    }\n",
       "\n",
       "    .dataframe tbody tr th {\n",
       "        vertical-align: top;\n",
       "    }\n",
       "\n",
       "    .dataframe thead th {\n",
       "        text-align: right;\n",
       "    }\n",
       "</style>\n",
       "<table border=\"1\" class=\"dataframe\">\n",
       "  <thead>\n",
       "    <tr style=\"text-align: right;\">\n",
       "      <th></th>\n",
       "      <th>Year</th>\n",
       "      <th>Player</th>\n",
       "      <th>Age</th>\n",
       "      <th>School</th>\n",
       "      <th>Height</th>\n",
       "      <th>Weight</th>\n",
       "      <th>Sprint_40yd</th>\n",
       "      <th>Vertical_Jump</th>\n",
       "      <th>Bench_Press_Reps</th>\n",
       "      <th>Broad_Jump</th>\n",
       "      <th>Agility_3cone</th>\n",
       "      <th>Shuttle</th>\n",
       "      <th>Drafted..tm.rnd.yr.</th>\n",
       "      <th>BMI</th>\n",
       "      <th>Player_Type</th>\n",
       "      <th>Position_Type</th>\n",
       "      <th>Position</th>\n",
       "      <th>Drafted</th>\n",
       "      <th>Team</th>\n",
       "      <th>Round</th>\n",
       "      <th>Pick</th>\n",
       "      <th>Year_drafted</th>\n",
       "    </tr>\n",
       "  </thead>\n",
       "  <tbody>\n",
       "    <tr>\n",
       "      <th>0</th>\n",
       "      <td>2009</td>\n",
       "      <td>Beanie Wells\\WellCh00</td>\n",
       "      <td>20.0</td>\n",
       "      <td>Ohio St.</td>\n",
       "      <td>1.8542</td>\n",
       "      <td>106.594207</td>\n",
       "      <td>4.38</td>\n",
       "      <td>85.09</td>\n",
       "      <td>25.0</td>\n",
       "      <td>325.12</td>\n",
       "      <td>NaN</td>\n",
       "      <td>NaN</td>\n",
       "      <td>Arizona Cardinals / 1st / 31st pick / 2009</td>\n",
       "      <td>31.004194</td>\n",
       "      <td>offense</td>\n",
       "      <td>backs_receivers</td>\n",
       "      <td>RB</td>\n",
       "      <td>Yes</td>\n",
       "      <td>Arizona Cardinals</td>\n",
       "      <td>1st</td>\n",
       "      <td>31st pick</td>\n",
       "      <td>2009</td>\n",
       "    </tr>\n",
       "    <tr>\n",
       "      <th>1</th>\n",
       "      <td>2009</td>\n",
       "      <td>Will Davis\\DaviWi99</td>\n",
       "      <td>22.0</td>\n",
       "      <td>Illinois</td>\n",
       "      <td>1.8796</td>\n",
       "      <td>118.387609</td>\n",
       "      <td>4.84</td>\n",
       "      <td>83.82</td>\n",
       "      <td>27.0</td>\n",
       "      <td>292.10</td>\n",
       "      <td>7.38</td>\n",
       "      <td>4.45</td>\n",
       "      <td>Arizona Cardinals / 6th / 204th pick / 2009</td>\n",
       "      <td>33.510073</td>\n",
       "      <td>defense</td>\n",
       "      <td>defensive_lineman</td>\n",
       "      <td>DE</td>\n",
       "      <td>Yes</td>\n",
       "      <td>Arizona Cardinals</td>\n",
       "      <td>6th</td>\n",
       "      <td>204th pick</td>\n",
       "      <td>2009</td>\n",
       "    </tr>\n",
       "    <tr>\n",
       "      <th>2</th>\n",
       "      <td>2009</td>\n",
       "      <td>Herman Johnson\\JohnHe23</td>\n",
       "      <td>24.0</td>\n",
       "      <td>LSU</td>\n",
       "      <td>2.0066</td>\n",
       "      <td>165.107623</td>\n",
       "      <td>5.50</td>\n",
       "      <td>NaN</td>\n",
       "      <td>21.0</td>\n",
       "      <td>NaN</td>\n",
       "      <td>NaN</td>\n",
       "      <td>NaN</td>\n",
       "      <td>Arizona Cardinals / 5th / 167th pick / 2009</td>\n",
       "      <td>41.005821</td>\n",
       "      <td>offense</td>\n",
       "      <td>offensive_lineman</td>\n",
       "      <td>OG</td>\n",
       "      <td>Yes</td>\n",
       "      <td>Arizona Cardinals</td>\n",
       "      <td>5th</td>\n",
       "      <td>167th pick</td>\n",
       "      <td>2009</td>\n",
       "    </tr>\n",
       "    <tr>\n",
       "      <th>3</th>\n",
       "      <td>2009</td>\n",
       "      <td>Rashad Johnson\\JohnRa98</td>\n",
       "      <td>23.0</td>\n",
       "      <td>Alabama</td>\n",
       "      <td>1.8034</td>\n",
       "      <td>92.079251</td>\n",
       "      <td>4.49</td>\n",
       "      <td>93.98</td>\n",
       "      <td>15.0</td>\n",
       "      <td>304.80</td>\n",
       "      <td>7.09</td>\n",
       "      <td>4.23</td>\n",
       "      <td>Arizona Cardinals / 3rd / 95th pick / 2009</td>\n",
       "      <td>28.312463</td>\n",
       "      <td>defense</td>\n",
       "      <td>defensive_back</td>\n",
       "      <td>FS</td>\n",
       "      <td>Yes</td>\n",
       "      <td>Arizona Cardinals</td>\n",
       "      <td>3rd</td>\n",
       "      <td>95th pick</td>\n",
       "      <td>2009</td>\n",
       "    </tr>\n",
       "    <tr>\n",
       "      <th>4</th>\n",
       "      <td>2009</td>\n",
       "      <td>Cody Brown\\BrowCo96</td>\n",
       "      <td>22.0</td>\n",
       "      <td>Connecticut</td>\n",
       "      <td>1.8796</td>\n",
       "      <td>110.676538</td>\n",
       "      <td>4.76</td>\n",
       "      <td>92.71</td>\n",
       "      <td>26.0</td>\n",
       "      <td>304.80</td>\n",
       "      <td>7.10</td>\n",
       "      <td>4.40</td>\n",
       "      <td>Arizona Cardinals / 2nd / 63rd pick / 2009</td>\n",
       "      <td>31.327425</td>\n",
       "      <td>defense</td>\n",
       "      <td>line_backer</td>\n",
       "      <td>OLB</td>\n",
       "      <td>Yes</td>\n",
       "      <td>Arizona Cardinals</td>\n",
       "      <td>2nd</td>\n",
       "      <td>63rd pick</td>\n",
       "      <td>2009</td>\n",
       "    </tr>\n",
       "    <tr>\n",
       "      <th>...</th>\n",
       "      <td>...</td>\n",
       "      <td>...</td>\n",
       "      <td>...</td>\n",
       "      <td>...</td>\n",
       "      <td>...</td>\n",
       "      <td>...</td>\n",
       "      <td>...</td>\n",
       "      <td>...</td>\n",
       "      <td>...</td>\n",
       "      <td>...</td>\n",
       "      <td>...</td>\n",
       "      <td>...</td>\n",
       "      <td>...</td>\n",
       "      <td>...</td>\n",
       "      <td>...</td>\n",
       "      <td>...</td>\n",
       "      <td>...</td>\n",
       "      <td>...</td>\n",
       "      <td>...</td>\n",
       "      <td>...</td>\n",
       "      <td>...</td>\n",
       "      <td>...</td>\n",
       "    </tr>\n",
       "    <tr>\n",
       "      <th>3472</th>\n",
       "      <td>2019</td>\n",
       "      <td>Xavier Crawford</td>\n",
       "      <td>NaN</td>\n",
       "      <td>Central Michigan</td>\n",
       "      <td>1.8034</td>\n",
       "      <td>84.821773</td>\n",
       "      <td>4.48</td>\n",
       "      <td>95.25</td>\n",
       "      <td>11.0</td>\n",
       "      <td>NaN</td>\n",
       "      <td>NaN</td>\n",
       "      <td>NaN</td>\n",
       "      <td>NaN</td>\n",
       "      <td>26.080939</td>\n",
       "      <td>defense</td>\n",
       "      <td>defensive_back</td>\n",
       "      <td>CB</td>\n",
       "      <td>No</td>\n",
       "      <td>NaN</td>\n",
       "      <td>NaN</td>\n",
       "      <td>NaN</td>\n",
       "      <td>NaN</td>\n",
       "    </tr>\n",
       "    <tr>\n",
       "      <th>3473</th>\n",
       "      <td>2019</td>\n",
       "      <td>Jordan Brown</td>\n",
       "      <td>NaN</td>\n",
       "      <td>South Dakota St.</td>\n",
       "      <td>1.8288</td>\n",
       "      <td>91.172066</td>\n",
       "      <td>4.51</td>\n",
       "      <td>100.33</td>\n",
       "      <td>13.0</td>\n",
       "      <td>325.12</td>\n",
       "      <td>NaN</td>\n",
       "      <td>NaN</td>\n",
       "      <td>NaN</td>\n",
       "      <td>27.260221</td>\n",
       "      <td>defense</td>\n",
       "      <td>defensive_back</td>\n",
       "      <td>CB</td>\n",
       "      <td>No</td>\n",
       "      <td>NaN</td>\n",
       "      <td>NaN</td>\n",
       "      <td>NaN</td>\n",
       "      <td>NaN</td>\n",
       "    </tr>\n",
       "    <tr>\n",
       "      <th>3474</th>\n",
       "      <td>2019</td>\n",
       "      <td>Corey Ballentine</td>\n",
       "      <td>NaN</td>\n",
       "      <td>Washburn</td>\n",
       "      <td>1.8034</td>\n",
       "      <td>88.904105</td>\n",
       "      <td>4.47</td>\n",
       "      <td>100.33</td>\n",
       "      <td>15.0</td>\n",
       "      <td>342.90</td>\n",
       "      <td>6.82</td>\n",
       "      <td>4.14</td>\n",
       "      <td>NaN</td>\n",
       "      <td>27.336171</td>\n",
       "      <td>defense</td>\n",
       "      <td>defensive_back</td>\n",
       "      <td>CB</td>\n",
       "      <td>No</td>\n",
       "      <td>NaN</td>\n",
       "      <td>NaN</td>\n",
       "      <td>NaN</td>\n",
       "      <td>NaN</td>\n",
       "    </tr>\n",
       "    <tr>\n",
       "      <th>3475</th>\n",
       "      <td>2019</td>\n",
       "      <td>Ugo Amadi</td>\n",
       "      <td>NaN</td>\n",
       "      <td>Oregon</td>\n",
       "      <td>1.7526</td>\n",
       "      <td>90.264882</td>\n",
       "      <td>4.51</td>\n",
       "      <td>82.55</td>\n",
       "      <td>18.0</td>\n",
       "      <td>292.10</td>\n",
       "      <td>7.21</td>\n",
       "      <td>4.19</td>\n",
       "      <td>NaN</td>\n",
       "      <td>29.386861</td>\n",
       "      <td>defense</td>\n",
       "      <td>defensive_back</td>\n",
       "      <td>S</td>\n",
       "      <td>No</td>\n",
       "      <td>NaN</td>\n",
       "      <td>NaN</td>\n",
       "      <td>NaN</td>\n",
       "      <td>NaN</td>\n",
       "    </tr>\n",
       "    <tr>\n",
       "      <th>3476</th>\n",
       "      <td>2019</td>\n",
       "      <td>Nasir Adderley</td>\n",
       "      <td>NaN</td>\n",
       "      <td>Delaware</td>\n",
       "      <td>1.8288</td>\n",
       "      <td>93.440028</td>\n",
       "      <td>NaN</td>\n",
       "      <td>NaN</td>\n",
       "      <td>NaN</td>\n",
       "      <td>NaN</td>\n",
       "      <td>NaN</td>\n",
       "      <td>NaN</td>\n",
       "      <td>NaN</td>\n",
       "      <td>27.938336</td>\n",
       "      <td>defense</td>\n",
       "      <td>defensive_back</td>\n",
       "      <td>S</td>\n",
       "      <td>No</td>\n",
       "      <td>NaN</td>\n",
       "      <td>NaN</td>\n",
       "      <td>NaN</td>\n",
       "      <td>NaN</td>\n",
       "    </tr>\n",
       "  </tbody>\n",
       "</table>\n",
       "<p>3477 rows × 22 columns</p>\n",
       "</div>"
      ],
      "text/plain": [
       "      Year                   Player   Age            School  Height  \\\n",
       "0     2009    Beanie Wells\\WellCh00  20.0          Ohio St.  1.8542   \n",
       "1     2009      Will Davis\\DaviWi99  22.0          Illinois  1.8796   \n",
       "2     2009  Herman Johnson\\JohnHe23  24.0               LSU  2.0066   \n",
       "3     2009  Rashad Johnson\\JohnRa98  23.0           Alabama  1.8034   \n",
       "4     2009      Cody Brown\\BrowCo96  22.0       Connecticut  1.8796   \n",
       "...    ...                      ...   ...               ...     ...   \n",
       "3472  2019          Xavier Crawford   NaN  Central Michigan  1.8034   \n",
       "3473  2019             Jordan Brown   NaN  South Dakota St.  1.8288   \n",
       "3474  2019         Corey Ballentine   NaN          Washburn  1.8034   \n",
       "3475  2019                Ugo Amadi   NaN            Oregon  1.7526   \n",
       "3476  2019           Nasir Adderley   NaN          Delaware  1.8288   \n",
       "\n",
       "          Weight  Sprint_40yd  Vertical_Jump  Bench_Press_Reps  Broad_Jump  \\\n",
       "0     106.594207         4.38          85.09              25.0      325.12   \n",
       "1     118.387609         4.84          83.82              27.0      292.10   \n",
       "2     165.107623         5.50            NaN              21.0         NaN   \n",
       "3      92.079251         4.49          93.98              15.0      304.80   \n",
       "4     110.676538         4.76          92.71              26.0      304.80   \n",
       "...          ...          ...            ...               ...         ...   \n",
       "3472   84.821773         4.48          95.25              11.0         NaN   \n",
       "3473   91.172066         4.51         100.33              13.0      325.12   \n",
       "3474   88.904105         4.47         100.33              15.0      342.90   \n",
       "3475   90.264882         4.51          82.55              18.0      292.10   \n",
       "3476   93.440028          NaN            NaN               NaN         NaN   \n",
       "\n",
       "      Agility_3cone  Shuttle                          Drafted..tm.rnd.yr.  \\\n",
       "0               NaN      NaN   Arizona Cardinals / 1st / 31st pick / 2009   \n",
       "1              7.38     4.45  Arizona Cardinals / 6th / 204th pick / 2009   \n",
       "2               NaN      NaN  Arizona Cardinals / 5th / 167th pick / 2009   \n",
       "3              7.09     4.23   Arizona Cardinals / 3rd / 95th pick / 2009   \n",
       "4              7.10     4.40   Arizona Cardinals / 2nd / 63rd pick / 2009   \n",
       "...             ...      ...                                          ...   \n",
       "3472            NaN      NaN                                          NaN   \n",
       "3473            NaN      NaN                                          NaN   \n",
       "3474           6.82     4.14                                          NaN   \n",
       "3475           7.21     4.19                                          NaN   \n",
       "3476            NaN      NaN                                          NaN   \n",
       "\n",
       "            BMI Player_Type      Position_Type Position Drafted  \\\n",
       "0     31.004194     offense    backs_receivers       RB     Yes   \n",
       "1     33.510073     defense  defensive_lineman       DE     Yes   \n",
       "2     41.005821     offense  offensive_lineman       OG     Yes   \n",
       "3     28.312463     defense     defensive_back       FS     Yes   \n",
       "4     31.327425     defense        line_backer      OLB     Yes   \n",
       "...         ...         ...                ...      ...     ...   \n",
       "3472  26.080939     defense     defensive_back       CB      No   \n",
       "3473  27.260221     defense     defensive_back       CB      No   \n",
       "3474  27.336171     defense     defensive_back       CB      No   \n",
       "3475  29.386861     defense     defensive_back        S      No   \n",
       "3476  27.938336     defense     defensive_back        S      No   \n",
       "\n",
       "                    Team  Round          Pick Year_drafted  \n",
       "0     Arizona Cardinals    1st     31st pick          2009  \n",
       "1     Arizona Cardinals    6th    204th pick          2009  \n",
       "2     Arizona Cardinals    5th    167th pick          2009  \n",
       "3     Arizona Cardinals    3rd     95th pick          2009  \n",
       "4     Arizona Cardinals    2nd     63rd pick          2009  \n",
       "...                  ...    ...           ...          ...  \n",
       "3472                 NaN    NaN           NaN          NaN  \n",
       "3473                 NaN    NaN           NaN          NaN  \n",
       "3474                 NaN    NaN           NaN          NaN  \n",
       "3475                 NaN    NaN           NaN          NaN  \n",
       "3476                 NaN    NaN           NaN          NaN  \n",
       "\n",
       "[3477 rows x 22 columns]"
      ]
     },
     "execution_count": 4,
     "metadata": {},
     "output_type": "execute_result"
    }
   ],
   "source": [
    "combine[['Team', 'Round', 'Pick', 'Year_drafted']] = combine['Drafted..tm.rnd.yr.'].str.split('/', expand=True)\n",
    "combine"
   ]
  },
  {
   "cell_type": "code",
   "execution_count": 5,
   "id": "dc592a22",
   "metadata": {},
   "outputs": [
    {
     "data": {
      "text/html": [
       "<div>\n",
       "<style scoped>\n",
       "    .dataframe tbody tr th:only-of-type {\n",
       "        vertical-align: middle;\n",
       "    }\n",
       "\n",
       "    .dataframe tbody tr th {\n",
       "        vertical-align: top;\n",
       "    }\n",
       "\n",
       "    .dataframe thead th {\n",
       "        text-align: right;\n",
       "    }\n",
       "</style>\n",
       "<table border=\"1\" class=\"dataframe\">\n",
       "  <thead>\n",
       "    <tr style=\"text-align: right;\">\n",
       "      <th></th>\n",
       "      <th>Year</th>\n",
       "      <th>Player</th>\n",
       "      <th>Age</th>\n",
       "      <th>School</th>\n",
       "      <th>Height</th>\n",
       "      <th>Weight</th>\n",
       "      <th>Sprint_40yd</th>\n",
       "      <th>Vertical_Jump</th>\n",
       "      <th>Bench_Press_Reps</th>\n",
       "      <th>Broad_Jump</th>\n",
       "      <th>Agility_3cone</th>\n",
       "      <th>Shuttle</th>\n",
       "      <th>Drafted..tm.rnd.yr.</th>\n",
       "      <th>BMI</th>\n",
       "      <th>Player_Type</th>\n",
       "      <th>Position_Type</th>\n",
       "      <th>Position</th>\n",
       "      <th>Drafted</th>\n",
       "      <th>Team</th>\n",
       "      <th>Round</th>\n",
       "      <th>Pick</th>\n",
       "      <th>Year_drafted</th>\n",
       "    </tr>\n",
       "  </thead>\n",
       "  <tbody>\n",
       "    <tr>\n",
       "      <th>0</th>\n",
       "      <td>2009</td>\n",
       "      <td>Beanie Wells\\WellCh00</td>\n",
       "      <td>20.0</td>\n",
       "      <td>Ohio St.</td>\n",
       "      <td>1.8542</td>\n",
       "      <td>106.594207</td>\n",
       "      <td>4.38</td>\n",
       "      <td>85.09</td>\n",
       "      <td>25.0</td>\n",
       "      <td>325.12</td>\n",
       "      <td>NaN</td>\n",
       "      <td>NaN</td>\n",
       "      <td>Arizona Cardinals / 1st / 31st pick / 2009</td>\n",
       "      <td>31.004194</td>\n",
       "      <td>offense</td>\n",
       "      <td>backs_receivers</td>\n",
       "      <td>RB</td>\n",
       "      <td>Yes</td>\n",
       "      <td>Arizona Cardinals</td>\n",
       "      <td>1</td>\n",
       "      <td>31</td>\n",
       "      <td>2009</td>\n",
       "    </tr>\n",
       "    <tr>\n",
       "      <th>1</th>\n",
       "      <td>2009</td>\n",
       "      <td>Will Davis\\DaviWi99</td>\n",
       "      <td>22.0</td>\n",
       "      <td>Illinois</td>\n",
       "      <td>1.8796</td>\n",
       "      <td>118.387609</td>\n",
       "      <td>4.84</td>\n",
       "      <td>83.82</td>\n",
       "      <td>27.0</td>\n",
       "      <td>292.10</td>\n",
       "      <td>7.38</td>\n",
       "      <td>4.45</td>\n",
       "      <td>Arizona Cardinals / 6th / 204th pick / 2009</td>\n",
       "      <td>33.510073</td>\n",
       "      <td>defense</td>\n",
       "      <td>defensive_lineman</td>\n",
       "      <td>DE</td>\n",
       "      <td>Yes</td>\n",
       "      <td>Arizona Cardinals</td>\n",
       "      <td>6</td>\n",
       "      <td>204</td>\n",
       "      <td>2009</td>\n",
       "    </tr>\n",
       "    <tr>\n",
       "      <th>2</th>\n",
       "      <td>2009</td>\n",
       "      <td>Herman Johnson\\JohnHe23</td>\n",
       "      <td>24.0</td>\n",
       "      <td>LSU</td>\n",
       "      <td>2.0066</td>\n",
       "      <td>165.107623</td>\n",
       "      <td>5.50</td>\n",
       "      <td>NaN</td>\n",
       "      <td>21.0</td>\n",
       "      <td>NaN</td>\n",
       "      <td>NaN</td>\n",
       "      <td>NaN</td>\n",
       "      <td>Arizona Cardinals / 5th / 167th pick / 2009</td>\n",
       "      <td>41.005821</td>\n",
       "      <td>offense</td>\n",
       "      <td>offensive_lineman</td>\n",
       "      <td>OG</td>\n",
       "      <td>Yes</td>\n",
       "      <td>Arizona Cardinals</td>\n",
       "      <td>5</td>\n",
       "      <td>167</td>\n",
       "      <td>2009</td>\n",
       "    </tr>\n",
       "    <tr>\n",
       "      <th>3</th>\n",
       "      <td>2009</td>\n",
       "      <td>Rashad Johnson\\JohnRa98</td>\n",
       "      <td>23.0</td>\n",
       "      <td>Alabama</td>\n",
       "      <td>1.8034</td>\n",
       "      <td>92.079251</td>\n",
       "      <td>4.49</td>\n",
       "      <td>93.98</td>\n",
       "      <td>15.0</td>\n",
       "      <td>304.80</td>\n",
       "      <td>7.09</td>\n",
       "      <td>4.23</td>\n",
       "      <td>Arizona Cardinals / 3rd / 95th pick / 2009</td>\n",
       "      <td>28.312463</td>\n",
       "      <td>defense</td>\n",
       "      <td>defensive_back</td>\n",
       "      <td>FS</td>\n",
       "      <td>Yes</td>\n",
       "      <td>Arizona Cardinals</td>\n",
       "      <td>3</td>\n",
       "      <td>95</td>\n",
       "      <td>2009</td>\n",
       "    </tr>\n",
       "    <tr>\n",
       "      <th>4</th>\n",
       "      <td>2009</td>\n",
       "      <td>Cody Brown\\BrowCo96</td>\n",
       "      <td>22.0</td>\n",
       "      <td>Connecticut</td>\n",
       "      <td>1.8796</td>\n",
       "      <td>110.676538</td>\n",
       "      <td>4.76</td>\n",
       "      <td>92.71</td>\n",
       "      <td>26.0</td>\n",
       "      <td>304.80</td>\n",
       "      <td>7.10</td>\n",
       "      <td>4.40</td>\n",
       "      <td>Arizona Cardinals / 2nd / 63rd pick / 2009</td>\n",
       "      <td>31.327425</td>\n",
       "      <td>defense</td>\n",
       "      <td>line_backer</td>\n",
       "      <td>OLB</td>\n",
       "      <td>Yes</td>\n",
       "      <td>Arizona Cardinals</td>\n",
       "      <td>2</td>\n",
       "      <td>63</td>\n",
       "      <td>2009</td>\n",
       "    </tr>\n",
       "    <tr>\n",
       "      <th>...</th>\n",
       "      <td>...</td>\n",
       "      <td>...</td>\n",
       "      <td>...</td>\n",
       "      <td>...</td>\n",
       "      <td>...</td>\n",
       "      <td>...</td>\n",
       "      <td>...</td>\n",
       "      <td>...</td>\n",
       "      <td>...</td>\n",
       "      <td>...</td>\n",
       "      <td>...</td>\n",
       "      <td>...</td>\n",
       "      <td>...</td>\n",
       "      <td>...</td>\n",
       "      <td>...</td>\n",
       "      <td>...</td>\n",
       "      <td>...</td>\n",
       "      <td>...</td>\n",
       "      <td>...</td>\n",
       "      <td>...</td>\n",
       "      <td>...</td>\n",
       "      <td>...</td>\n",
       "    </tr>\n",
       "    <tr>\n",
       "      <th>3472</th>\n",
       "      <td>2019</td>\n",
       "      <td>Xavier Crawford</td>\n",
       "      <td>NaN</td>\n",
       "      <td>Central Michigan</td>\n",
       "      <td>1.8034</td>\n",
       "      <td>84.821773</td>\n",
       "      <td>4.48</td>\n",
       "      <td>95.25</td>\n",
       "      <td>11.0</td>\n",
       "      <td>NaN</td>\n",
       "      <td>NaN</td>\n",
       "      <td>NaN</td>\n",
       "      <td>NaN</td>\n",
       "      <td>26.080939</td>\n",
       "      <td>defense</td>\n",
       "      <td>defensive_back</td>\n",
       "      <td>CB</td>\n",
       "      <td>No</td>\n",
       "      <td>NaN</td>\n",
       "      <td>NaN</td>\n",
       "      <td>NaN</td>\n",
       "      <td>NaN</td>\n",
       "    </tr>\n",
       "    <tr>\n",
       "      <th>3473</th>\n",
       "      <td>2019</td>\n",
       "      <td>Jordan Brown</td>\n",
       "      <td>NaN</td>\n",
       "      <td>South Dakota St.</td>\n",
       "      <td>1.8288</td>\n",
       "      <td>91.172066</td>\n",
       "      <td>4.51</td>\n",
       "      <td>100.33</td>\n",
       "      <td>13.0</td>\n",
       "      <td>325.12</td>\n",
       "      <td>NaN</td>\n",
       "      <td>NaN</td>\n",
       "      <td>NaN</td>\n",
       "      <td>27.260221</td>\n",
       "      <td>defense</td>\n",
       "      <td>defensive_back</td>\n",
       "      <td>CB</td>\n",
       "      <td>No</td>\n",
       "      <td>NaN</td>\n",
       "      <td>NaN</td>\n",
       "      <td>NaN</td>\n",
       "      <td>NaN</td>\n",
       "    </tr>\n",
       "    <tr>\n",
       "      <th>3474</th>\n",
       "      <td>2019</td>\n",
       "      <td>Corey Ballentine</td>\n",
       "      <td>NaN</td>\n",
       "      <td>Washburn</td>\n",
       "      <td>1.8034</td>\n",
       "      <td>88.904105</td>\n",
       "      <td>4.47</td>\n",
       "      <td>100.33</td>\n",
       "      <td>15.0</td>\n",
       "      <td>342.90</td>\n",
       "      <td>6.82</td>\n",
       "      <td>4.14</td>\n",
       "      <td>NaN</td>\n",
       "      <td>27.336171</td>\n",
       "      <td>defense</td>\n",
       "      <td>defensive_back</td>\n",
       "      <td>CB</td>\n",
       "      <td>No</td>\n",
       "      <td>NaN</td>\n",
       "      <td>NaN</td>\n",
       "      <td>NaN</td>\n",
       "      <td>NaN</td>\n",
       "    </tr>\n",
       "    <tr>\n",
       "      <th>3475</th>\n",
       "      <td>2019</td>\n",
       "      <td>Ugo Amadi</td>\n",
       "      <td>NaN</td>\n",
       "      <td>Oregon</td>\n",
       "      <td>1.7526</td>\n",
       "      <td>90.264882</td>\n",
       "      <td>4.51</td>\n",
       "      <td>82.55</td>\n",
       "      <td>18.0</td>\n",
       "      <td>292.10</td>\n",
       "      <td>7.21</td>\n",
       "      <td>4.19</td>\n",
       "      <td>NaN</td>\n",
       "      <td>29.386861</td>\n",
       "      <td>defense</td>\n",
       "      <td>defensive_back</td>\n",
       "      <td>S</td>\n",
       "      <td>No</td>\n",
       "      <td>NaN</td>\n",
       "      <td>NaN</td>\n",
       "      <td>NaN</td>\n",
       "      <td>NaN</td>\n",
       "    </tr>\n",
       "    <tr>\n",
       "      <th>3476</th>\n",
       "      <td>2019</td>\n",
       "      <td>Nasir Adderley</td>\n",
       "      <td>NaN</td>\n",
       "      <td>Delaware</td>\n",
       "      <td>1.8288</td>\n",
       "      <td>93.440028</td>\n",
       "      <td>NaN</td>\n",
       "      <td>NaN</td>\n",
       "      <td>NaN</td>\n",
       "      <td>NaN</td>\n",
       "      <td>NaN</td>\n",
       "      <td>NaN</td>\n",
       "      <td>NaN</td>\n",
       "      <td>27.938336</td>\n",
       "      <td>defense</td>\n",
       "      <td>defensive_back</td>\n",
       "      <td>S</td>\n",
       "      <td>No</td>\n",
       "      <td>NaN</td>\n",
       "      <td>NaN</td>\n",
       "      <td>NaN</td>\n",
       "      <td>NaN</td>\n",
       "    </tr>\n",
       "  </tbody>\n",
       "</table>\n",
       "<p>3477 rows × 22 columns</p>\n",
       "</div>"
      ],
      "text/plain": [
       "      Year                   Player   Age            School  Height  \\\n",
       "0     2009    Beanie Wells\\WellCh00  20.0          Ohio St.  1.8542   \n",
       "1     2009      Will Davis\\DaviWi99  22.0          Illinois  1.8796   \n",
       "2     2009  Herman Johnson\\JohnHe23  24.0               LSU  2.0066   \n",
       "3     2009  Rashad Johnson\\JohnRa98  23.0           Alabama  1.8034   \n",
       "4     2009      Cody Brown\\BrowCo96  22.0       Connecticut  1.8796   \n",
       "...    ...                      ...   ...               ...     ...   \n",
       "3472  2019          Xavier Crawford   NaN  Central Michigan  1.8034   \n",
       "3473  2019             Jordan Brown   NaN  South Dakota St.  1.8288   \n",
       "3474  2019         Corey Ballentine   NaN          Washburn  1.8034   \n",
       "3475  2019                Ugo Amadi   NaN            Oregon  1.7526   \n",
       "3476  2019           Nasir Adderley   NaN          Delaware  1.8288   \n",
       "\n",
       "          Weight  Sprint_40yd  Vertical_Jump  Bench_Press_Reps  Broad_Jump  \\\n",
       "0     106.594207         4.38          85.09              25.0      325.12   \n",
       "1     118.387609         4.84          83.82              27.0      292.10   \n",
       "2     165.107623         5.50            NaN              21.0         NaN   \n",
       "3      92.079251         4.49          93.98              15.0      304.80   \n",
       "4     110.676538         4.76          92.71              26.0      304.80   \n",
       "...          ...          ...            ...               ...         ...   \n",
       "3472   84.821773         4.48          95.25              11.0         NaN   \n",
       "3473   91.172066         4.51         100.33              13.0      325.12   \n",
       "3474   88.904105         4.47         100.33              15.0      342.90   \n",
       "3475   90.264882         4.51          82.55              18.0      292.10   \n",
       "3476   93.440028          NaN            NaN               NaN         NaN   \n",
       "\n",
       "      Agility_3cone  Shuttle                          Drafted..tm.rnd.yr.  \\\n",
       "0               NaN      NaN   Arizona Cardinals / 1st / 31st pick / 2009   \n",
       "1              7.38     4.45  Arizona Cardinals / 6th / 204th pick / 2009   \n",
       "2               NaN      NaN  Arizona Cardinals / 5th / 167th pick / 2009   \n",
       "3              7.09     4.23   Arizona Cardinals / 3rd / 95th pick / 2009   \n",
       "4              7.10     4.40   Arizona Cardinals / 2nd / 63rd pick / 2009   \n",
       "...             ...      ...                                          ...   \n",
       "3472            NaN      NaN                                          NaN   \n",
       "3473            NaN      NaN                                          NaN   \n",
       "3474           6.82     4.14                                          NaN   \n",
       "3475           7.21     4.19                                          NaN   \n",
       "3476            NaN      NaN                                          NaN   \n",
       "\n",
       "            BMI Player_Type      Position_Type Position Drafted  \\\n",
       "0     31.004194     offense    backs_receivers       RB     Yes   \n",
       "1     33.510073     defense  defensive_lineman       DE     Yes   \n",
       "2     41.005821     offense  offensive_lineman       OG     Yes   \n",
       "3     28.312463     defense     defensive_back       FS     Yes   \n",
       "4     31.327425     defense        line_backer      OLB     Yes   \n",
       "...         ...         ...                ...      ...     ...   \n",
       "3472  26.080939     defense     defensive_back       CB      No   \n",
       "3473  27.260221     defense     defensive_back       CB      No   \n",
       "3474  27.336171     defense     defensive_back       CB      No   \n",
       "3475  29.386861     defense     defensive_back        S      No   \n",
       "3476  27.938336     defense     defensive_back        S      No   \n",
       "\n",
       "                    Team Round Pick Year_drafted  \n",
       "0     Arizona Cardinals      1   31         2009  \n",
       "1     Arizona Cardinals      6  204         2009  \n",
       "2     Arizona Cardinals      5  167         2009  \n",
       "3     Arizona Cardinals      3   95         2009  \n",
       "4     Arizona Cardinals      2   63         2009  \n",
       "...                  ...   ...  ...          ...  \n",
       "3472                 NaN   NaN  NaN          NaN  \n",
       "3473                 NaN   NaN  NaN          NaN  \n",
       "3474                 NaN   NaN  NaN          NaN  \n",
       "3475                 NaN   NaN  NaN          NaN  \n",
       "3476                 NaN   NaN  NaN          NaN  \n",
       "\n",
       "[3477 rows x 22 columns]"
      ]
     },
     "execution_count": 5,
     "metadata": {},
     "output_type": "execute_result"
    }
   ],
   "source": [
    "combine['Round'] = combine['Round'].str.extract('(\\d+)')\n",
    "combine['Pick'] = combine['Pick'].str.extract('(\\d+)')\n",
    "combine"
   ]
  },
  {
   "cell_type": "code",
   "execution_count": 6,
   "id": "58388287",
   "metadata": {
    "scrolled": false
   },
   "outputs": [
    {
     "data": {
      "text/html": [
       "<div>\n",
       "<style scoped>\n",
       "    .dataframe tbody tr th:only-of-type {\n",
       "        vertical-align: middle;\n",
       "    }\n",
       "\n",
       "    .dataframe tbody tr th {\n",
       "        vertical-align: top;\n",
       "    }\n",
       "\n",
       "    .dataframe thead th {\n",
       "        text-align: right;\n",
       "    }\n",
       "</style>\n",
       "<table border=\"1\" class=\"dataframe\">\n",
       "  <thead>\n",
       "    <tr style=\"text-align: right;\">\n",
       "      <th></th>\n",
       "      <th>Age</th>\n",
       "      <th>Height</th>\n",
       "      <th>Weight</th>\n",
       "      <th>Sprint_40yd</th>\n",
       "      <th>Vertical_Jump</th>\n",
       "      <th>Bench_Press_Reps</th>\n",
       "      <th>Broad_Jump</th>\n",
       "      <th>Agility_3cone</th>\n",
       "      <th>Shuttle</th>\n",
       "      <th>BMI</th>\n",
       "      <th>Position_Type</th>\n",
       "      <th>Position</th>\n",
       "      <th>Drafted</th>\n",
       "      <th>Round</th>\n",
       "      <th>Pick</th>\n",
       "    </tr>\n",
       "  </thead>\n",
       "  <tbody>\n",
       "    <tr>\n",
       "      <th>0</th>\n",
       "      <td>20.0</td>\n",
       "      <td>1.8542</td>\n",
       "      <td>106.594207</td>\n",
       "      <td>4.38</td>\n",
       "      <td>85.09</td>\n",
       "      <td>25.0</td>\n",
       "      <td>325.12</td>\n",
       "      <td>NaN</td>\n",
       "      <td>NaN</td>\n",
       "      <td>31.004194</td>\n",
       "      <td>backs_receivers</td>\n",
       "      <td>RB</td>\n",
       "      <td>Yes</td>\n",
       "      <td>1</td>\n",
       "      <td>31</td>\n",
       "    </tr>\n",
       "    <tr>\n",
       "      <th>1</th>\n",
       "      <td>22.0</td>\n",
       "      <td>1.8796</td>\n",
       "      <td>118.387609</td>\n",
       "      <td>4.84</td>\n",
       "      <td>83.82</td>\n",
       "      <td>27.0</td>\n",
       "      <td>292.10</td>\n",
       "      <td>7.38</td>\n",
       "      <td>4.45</td>\n",
       "      <td>33.510073</td>\n",
       "      <td>defensive_lineman</td>\n",
       "      <td>DE</td>\n",
       "      <td>Yes</td>\n",
       "      <td>6</td>\n",
       "      <td>204</td>\n",
       "    </tr>\n",
       "    <tr>\n",
       "      <th>2</th>\n",
       "      <td>24.0</td>\n",
       "      <td>2.0066</td>\n",
       "      <td>165.107623</td>\n",
       "      <td>5.50</td>\n",
       "      <td>NaN</td>\n",
       "      <td>21.0</td>\n",
       "      <td>NaN</td>\n",
       "      <td>NaN</td>\n",
       "      <td>NaN</td>\n",
       "      <td>41.005821</td>\n",
       "      <td>offensive_lineman</td>\n",
       "      <td>OG</td>\n",
       "      <td>Yes</td>\n",
       "      <td>5</td>\n",
       "      <td>167</td>\n",
       "    </tr>\n",
       "    <tr>\n",
       "      <th>3</th>\n",
       "      <td>23.0</td>\n",
       "      <td>1.8034</td>\n",
       "      <td>92.079251</td>\n",
       "      <td>4.49</td>\n",
       "      <td>93.98</td>\n",
       "      <td>15.0</td>\n",
       "      <td>304.80</td>\n",
       "      <td>7.09</td>\n",
       "      <td>4.23</td>\n",
       "      <td>28.312463</td>\n",
       "      <td>defensive_back</td>\n",
       "      <td>FS</td>\n",
       "      <td>Yes</td>\n",
       "      <td>3</td>\n",
       "      <td>95</td>\n",
       "    </tr>\n",
       "    <tr>\n",
       "      <th>4</th>\n",
       "      <td>22.0</td>\n",
       "      <td>1.8796</td>\n",
       "      <td>110.676538</td>\n",
       "      <td>4.76</td>\n",
       "      <td>92.71</td>\n",
       "      <td>26.0</td>\n",
       "      <td>304.80</td>\n",
       "      <td>7.10</td>\n",
       "      <td>4.40</td>\n",
       "      <td>31.327425</td>\n",
       "      <td>line_backer</td>\n",
       "      <td>OLB</td>\n",
       "      <td>Yes</td>\n",
       "      <td>2</td>\n",
       "      <td>63</td>\n",
       "    </tr>\n",
       "    <tr>\n",
       "      <th>...</th>\n",
       "      <td>...</td>\n",
       "      <td>...</td>\n",
       "      <td>...</td>\n",
       "      <td>...</td>\n",
       "      <td>...</td>\n",
       "      <td>...</td>\n",
       "      <td>...</td>\n",
       "      <td>...</td>\n",
       "      <td>...</td>\n",
       "      <td>...</td>\n",
       "      <td>...</td>\n",
       "      <td>...</td>\n",
       "      <td>...</td>\n",
       "      <td>...</td>\n",
       "      <td>...</td>\n",
       "    </tr>\n",
       "    <tr>\n",
       "      <th>3472</th>\n",
       "      <td>NaN</td>\n",
       "      <td>1.8034</td>\n",
       "      <td>84.821773</td>\n",
       "      <td>4.48</td>\n",
       "      <td>95.25</td>\n",
       "      <td>11.0</td>\n",
       "      <td>NaN</td>\n",
       "      <td>NaN</td>\n",
       "      <td>NaN</td>\n",
       "      <td>26.080939</td>\n",
       "      <td>defensive_back</td>\n",
       "      <td>CB</td>\n",
       "      <td>No</td>\n",
       "      <td>NaN</td>\n",
       "      <td>NaN</td>\n",
       "    </tr>\n",
       "    <tr>\n",
       "      <th>3473</th>\n",
       "      <td>NaN</td>\n",
       "      <td>1.8288</td>\n",
       "      <td>91.172066</td>\n",
       "      <td>4.51</td>\n",
       "      <td>100.33</td>\n",
       "      <td>13.0</td>\n",
       "      <td>325.12</td>\n",
       "      <td>NaN</td>\n",
       "      <td>NaN</td>\n",
       "      <td>27.260221</td>\n",
       "      <td>defensive_back</td>\n",
       "      <td>CB</td>\n",
       "      <td>No</td>\n",
       "      <td>NaN</td>\n",
       "      <td>NaN</td>\n",
       "    </tr>\n",
       "    <tr>\n",
       "      <th>3474</th>\n",
       "      <td>NaN</td>\n",
       "      <td>1.8034</td>\n",
       "      <td>88.904105</td>\n",
       "      <td>4.47</td>\n",
       "      <td>100.33</td>\n",
       "      <td>15.0</td>\n",
       "      <td>342.90</td>\n",
       "      <td>6.82</td>\n",
       "      <td>4.14</td>\n",
       "      <td>27.336171</td>\n",
       "      <td>defensive_back</td>\n",
       "      <td>CB</td>\n",
       "      <td>No</td>\n",
       "      <td>NaN</td>\n",
       "      <td>NaN</td>\n",
       "    </tr>\n",
       "    <tr>\n",
       "      <th>3475</th>\n",
       "      <td>NaN</td>\n",
       "      <td>1.7526</td>\n",
       "      <td>90.264882</td>\n",
       "      <td>4.51</td>\n",
       "      <td>82.55</td>\n",
       "      <td>18.0</td>\n",
       "      <td>292.10</td>\n",
       "      <td>7.21</td>\n",
       "      <td>4.19</td>\n",
       "      <td>29.386861</td>\n",
       "      <td>defensive_back</td>\n",
       "      <td>S</td>\n",
       "      <td>No</td>\n",
       "      <td>NaN</td>\n",
       "      <td>NaN</td>\n",
       "    </tr>\n",
       "    <tr>\n",
       "      <th>3476</th>\n",
       "      <td>NaN</td>\n",
       "      <td>1.8288</td>\n",
       "      <td>93.440028</td>\n",
       "      <td>NaN</td>\n",
       "      <td>NaN</td>\n",
       "      <td>NaN</td>\n",
       "      <td>NaN</td>\n",
       "      <td>NaN</td>\n",
       "      <td>NaN</td>\n",
       "      <td>27.938336</td>\n",
       "      <td>defensive_back</td>\n",
       "      <td>S</td>\n",
       "      <td>No</td>\n",
       "      <td>NaN</td>\n",
       "      <td>NaN</td>\n",
       "    </tr>\n",
       "  </tbody>\n",
       "</table>\n",
       "<p>3477 rows × 15 columns</p>\n",
       "</div>"
      ],
      "text/plain": [
       "       Age  Height      Weight  Sprint_40yd  Vertical_Jump  Bench_Press_Reps  \\\n",
       "0     20.0  1.8542  106.594207         4.38          85.09              25.0   \n",
       "1     22.0  1.8796  118.387609         4.84          83.82              27.0   \n",
       "2     24.0  2.0066  165.107623         5.50            NaN              21.0   \n",
       "3     23.0  1.8034   92.079251         4.49          93.98              15.0   \n",
       "4     22.0  1.8796  110.676538         4.76          92.71              26.0   \n",
       "...    ...     ...         ...          ...            ...               ...   \n",
       "3472   NaN  1.8034   84.821773         4.48          95.25              11.0   \n",
       "3473   NaN  1.8288   91.172066         4.51         100.33              13.0   \n",
       "3474   NaN  1.8034   88.904105         4.47         100.33              15.0   \n",
       "3475   NaN  1.7526   90.264882         4.51          82.55              18.0   \n",
       "3476   NaN  1.8288   93.440028          NaN            NaN               NaN   \n",
       "\n",
       "      Broad_Jump  Agility_3cone  Shuttle        BMI      Position_Type  \\\n",
       "0         325.12            NaN      NaN  31.004194    backs_receivers   \n",
       "1         292.10           7.38     4.45  33.510073  defensive_lineman   \n",
       "2            NaN            NaN      NaN  41.005821  offensive_lineman   \n",
       "3         304.80           7.09     4.23  28.312463     defensive_back   \n",
       "4         304.80           7.10     4.40  31.327425        line_backer   \n",
       "...          ...            ...      ...        ...                ...   \n",
       "3472         NaN            NaN      NaN  26.080939     defensive_back   \n",
       "3473      325.12            NaN      NaN  27.260221     defensive_back   \n",
       "3474      342.90           6.82     4.14  27.336171     defensive_back   \n",
       "3475      292.10           7.21     4.19  29.386861     defensive_back   \n",
       "3476         NaN            NaN      NaN  27.938336     defensive_back   \n",
       "\n",
       "     Position Drafted Round Pick  \n",
       "0          RB     Yes     1   31  \n",
       "1          DE     Yes     6  204  \n",
       "2          OG     Yes     5  167  \n",
       "3          FS     Yes     3   95  \n",
       "4         OLB     Yes     2   63  \n",
       "...       ...     ...   ...  ...  \n",
       "3472       CB      No   NaN  NaN  \n",
       "3473       CB      No   NaN  NaN  \n",
       "3474       CB      No   NaN  NaN  \n",
       "3475        S      No   NaN  NaN  \n",
       "3476        S      No   NaN  NaN  \n",
       "\n",
       "[3477 rows x 15 columns]"
      ]
     },
     "execution_count": 6,
     "metadata": {},
     "output_type": "execute_result"
    }
   ],
   "source": [
    "combine = combine.drop(['Year', 'Player', 'School', 'Drafted..tm.rnd.yr.', 'Player_Type', 'Team', 'Year_drafted'], axis=1)\n",
    "combine"
   ]
  },
  {
   "cell_type": "code",
   "execution_count": 7,
   "id": "ecc606af",
   "metadata": {},
   "outputs": [
    {
     "data": {
      "text/plain": [
       "WR     506\n",
       "CB     393\n",
       "RB     320\n",
       "OT     278\n",
       "DT     255\n",
       "DE     246\n",
       "OLB    232\n",
       "QB     194\n",
       "TE     191\n",
       "OG     188\n",
       "ILB    148\n",
       "SS     108\n",
       "FS      98\n",
       "C       89\n",
       "P       63\n",
       "S       56\n",
       "FB      49\n",
       "K       48\n",
       "LS      13\n",
       "DB       2\n",
       "Name: Position, dtype: int64"
      ]
     },
     "execution_count": 7,
     "metadata": {},
     "output_type": "execute_result"
    }
   ],
   "source": [
    "combine['Position'].value_counts()"
   ]
  },
  {
   "cell_type": "code",
   "execution_count": 8,
   "id": "de04edd8",
   "metadata": {},
   "outputs": [
    {
     "data": {
      "text/plain": [
       "backs_receivers       1260\n",
       "defensive_back         657\n",
       "offensive_lineman      555\n",
       "defensive_lineman      501\n",
       "line_backer            380\n",
       "kicking_specialist     111\n",
       "other_special           13\n",
       "Name: Position_Type, dtype: int64"
      ]
     },
     "execution_count": 8,
     "metadata": {},
     "output_type": "execute_result"
    }
   ],
   "source": [
    "combine['Position_Type'].value_counts()"
   ]
  },
  {
   "cell_type": "markdown",
   "id": "d7a811c0",
   "metadata": {},
   "source": [
    "The specialist players (kicker, punter, and long snapper) are not drafted on the abilities measured in the combine, and rarely participate in enough drills for us to create a model, so they will not be included in the analysis."
   ]
  },
  {
   "cell_type": "code",
   "execution_count": 9,
   "id": "6576907f",
   "metadata": {},
   "outputs": [
    {
     "data": {
      "text/plain": [
       "Age                  36\n",
       "Height                0\n",
       "Weight                0\n",
       "Sprint_40yd           9\n",
       "Vertical_Jump        24\n",
       "Bench_Press_Reps    183\n",
       "Broad_Jump           23\n",
       "Agility_3cone        37\n",
       "Shuttle              34\n",
       "BMI                   0\n",
       "Position_Type         0\n",
       "Position              0\n",
       "Drafted               0\n",
       "Round                77\n",
       "Pick                 77\n",
       "dtype: int64"
      ]
     },
     "execution_count": 9,
     "metadata": {},
     "output_type": "execute_result"
    }
   ],
   "source": [
    "combine[combine['Position'] == 'QB'].isna().sum()"
   ]
  },
  {
   "cell_type": "markdown",
   "id": "7cbbc413",
   "metadata": {},
   "source": [
    "183/194 QBs don't do the bench press, so it will be dropped when evaluating QBs."
   ]
  },
  {
   "cell_type": "code",
   "execution_count": 10,
   "id": "14efb38a",
   "metadata": {},
   "outputs": [
    {
     "data": {
      "text/plain": [
       "Age                  50\n",
       "Height                0\n",
       "Weight                0\n",
       "Sprint_40yd          14\n",
       "Vertical_Jump        42\n",
       "Bench_Press_Reps     50\n",
       "Broad_Jump           52\n",
       "Agility_3cone       128\n",
       "Shuttle             122\n",
       "BMI                   0\n",
       "Position_Type         0\n",
       "Position              0\n",
       "Drafted               0\n",
       "Round               126\n",
       "Pick                126\n",
       "dtype: int64"
      ]
     },
     "execution_count": 10,
     "metadata": {},
     "output_type": "execute_result"
    }
   ],
   "source": [
    "combine[combine['Position'] == 'RB'].isna().sum()"
   ]
  },
  {
   "cell_type": "markdown",
   "id": "6142d254",
   "metadata": {},
   "source": [
    "128/320 and 122/320 RBs don't do the 3 cone and the shuttle. Consider dropping both."
   ]
  },
  {
   "cell_type": "code",
   "execution_count": 11,
   "id": "4b861464",
   "metadata": {},
   "outputs": [
    {
     "data": {
      "text/plain": [
       "Age                  7\n",
       "Height               0\n",
       "Weight               0\n",
       "Sprint_40yd          1\n",
       "Vertical_Jump        9\n",
       "Bench_Press_Reps     7\n",
       "Broad_Jump           9\n",
       "Agility_3cone       16\n",
       "Shuttle             15\n",
       "BMI                  0\n",
       "Position_Type        0\n",
       "Position             0\n",
       "Drafted              0\n",
       "Round               24\n",
       "Pick                24\n",
       "dtype: int64"
      ]
     },
     "execution_count": 11,
     "metadata": {},
     "output_type": "execute_result"
    }
   ],
   "source": [
    "combine[combine['Position'] == 'FB'].isna().sum()"
   ]
  },
  {
   "cell_type": "markdown",
   "id": "943dd453",
   "metadata": {},
   "source": [
    "16/49 and 15/49 FBs don't do 3 cone and shuttle. Likely worth dropping both when combining with RBs"
   ]
  },
  {
   "cell_type": "code",
   "execution_count": 12,
   "id": "00ff7829",
   "metadata": {},
   "outputs": [
    {
     "data": {
      "text/plain": [
       "Age                  83\n",
       "Height                0\n",
       "Weight                0\n",
       "Sprint_40yd          26\n",
       "Vertical_Jump        74\n",
       "Bench_Press_Reps    116\n",
       "Broad_Jump           83\n",
       "Agility_3cone       173\n",
       "Shuttle             152\n",
       "BMI                   0\n",
       "Position_Type         0\n",
       "Position              0\n",
       "Drafted               0\n",
       "Round               207\n",
       "Pick                207\n",
       "dtype: int64"
      ]
     },
     "execution_count": 12,
     "metadata": {},
     "output_type": "execute_result"
    }
   ],
   "source": [
    "combine[combine['Position'] == 'WR'].isna().sum()"
   ]
  },
  {
   "cell_type": "markdown",
   "id": "9fd6b285",
   "metadata": {},
   "source": [
    "506"
   ]
  },
  {
   "cell_type": "code",
   "execution_count": 13,
   "id": "0063285a",
   "metadata": {},
   "outputs": [
    {
     "data": {
      "text/plain": [
       "Age                 23\n",
       "Height               0\n",
       "Weight               0\n",
       "Sprint_40yd         12\n",
       "Vertical_Jump       47\n",
       "Bench_Press_Reps    40\n",
       "Broad_Jump          53\n",
       "Agility_3cone       67\n",
       "Shuttle             66\n",
       "BMI                  0\n",
       "Position_Type        0\n",
       "Position             0\n",
       "Drafted              0\n",
       "Round               56\n",
       "Pick                56\n",
       "dtype: int64"
      ]
     },
     "execution_count": 13,
     "metadata": {},
     "output_type": "execute_result"
    }
   ],
   "source": [
    "combine[combine['Position'] == 'TE'].isna().sum()"
   ]
  },
  {
   "cell_type": "markdown",
   "id": "445702a5",
   "metadata": {},
   "source": [
    "191"
   ]
  },
  {
   "cell_type": "code",
   "execution_count": 14,
   "id": "3eb98962",
   "metadata": {},
   "outputs": [
    {
     "data": {
      "text/plain": [
       "Age                  82\n",
       "Height                0\n",
       "Weight                0\n",
       "Sprint_40yd          26\n",
       "Vertical_Jump       112\n",
       "Bench_Press_Reps     99\n",
       "Broad_Jump          122\n",
       "Agility_3cone       145\n",
       "Shuttle             130\n",
       "BMI                   0\n",
       "Position_Type         0\n",
       "Position              0\n",
       "Drafted               0\n",
       "Round               189\n",
       "Pick                189\n",
       "dtype: int64"
      ]
     },
     "execution_count": 14,
     "metadata": {},
     "output_type": "execute_result"
    }
   ],
   "source": [
    "combine[combine['Position_Type'] == 'offensive_lineman'].isna().sum()"
   ]
  },
  {
   "cell_type": "markdown",
   "id": "2a6e8925",
   "metadata": {},
   "source": [
    "555"
   ]
  },
  {
   "cell_type": "code",
   "execution_count": 15,
   "id": "b416fa61",
   "metadata": {},
   "outputs": [
    {
     "data": {
      "text/plain": [
       "Age                 113\n",
       "Height                0\n",
       "Weight                0\n",
       "Sprint_40yd          35\n",
       "Vertical_Jump       115\n",
       "Bench_Press_Reps    126\n",
       "Broad_Jump          112\n",
       "Agility_3cone       250\n",
       "Shuttle             234\n",
       "BMI                   0\n",
       "Position_Type         0\n",
       "Position              0\n",
       "Drafted               0\n",
       "Round               212\n",
       "Pick                212\n",
       "dtype: int64"
      ]
     },
     "execution_count": 15,
     "metadata": {},
     "output_type": "execute_result"
    }
   ],
   "source": [
    "combine[combine['Position_Type'] == 'defensive_back'].isna().sum()"
   ]
  },
  {
   "cell_type": "markdown",
   "id": "59b4d2a2",
   "metadata": {},
   "source": [
    "657"
   ]
  },
  {
   "cell_type": "code",
   "execution_count": 16,
   "id": "709deec5",
   "metadata": {},
   "outputs": [
    {
     "data": {
      "text/plain": [
       "Age                  38\n",
       "Height                0\n",
       "Weight                0\n",
       "Sprint_40yd          13\n",
       "Vertical_Jump        74\n",
       "Bench_Press_Reps     75\n",
       "Broad_Jump           62\n",
       "Agility_3cone       141\n",
       "Shuttle             132\n",
       "BMI                   0\n",
       "Position_Type         0\n",
       "Position              0\n",
       "Drafted               0\n",
       "Round               107\n",
       "Pick                107\n",
       "dtype: int64"
      ]
     },
     "execution_count": 16,
     "metadata": {},
     "output_type": "execute_result"
    }
   ],
   "source": [
    "combine[combine['Position_Type'] == 'line_backer'].isna().sum()"
   ]
  },
  {
   "cell_type": "markdown",
   "id": "d261396c",
   "metadata": {},
   "source": [
    "380"
   ]
  },
  {
   "cell_type": "code",
   "execution_count": 17,
   "id": "941b469e",
   "metadata": {},
   "outputs": [
    {
     "data": {
      "text/plain": [
       "Age                  63\n",
       "Height                0\n",
       "Weight                0\n",
       "Sprint_40yd          16\n",
       "Vertical_Jump        93\n",
       "Bench_Press_Reps    105\n",
       "Broad_Jump          105\n",
       "Agility_3cone       140\n",
       "Shuttle             135\n",
       "BMI                   0\n",
       "Position_Type         0\n",
       "Position              0\n",
       "Drafted               0\n",
       "Round               137\n",
       "Pick                137\n",
       "dtype: int64"
      ]
     },
     "execution_count": 17,
     "metadata": {},
     "output_type": "execute_result"
    }
   ],
   "source": [
    "combine[combine['Position_Type'] == 'defensive_lineman'].isna().sum()"
   ]
  },
  {
   "cell_type": "markdown",
   "id": "eb1d6fd2",
   "metadata": {},
   "source": [
    "501"
   ]
  },
  {
   "cell_type": "code",
   "execution_count": 18,
   "id": "6628eecd",
   "metadata": {},
   "outputs": [
    {
     "data": {
      "text/plain": [
       "backs_receivers      352\n",
       "offensive_lineman    235\n",
       "defensive_back       231\n",
       "defensive_lineman    213\n",
       "line_backer          148\n",
       "Name: Position_Type, dtype: int64"
      ]
     },
     "execution_count": 18,
     "metadata": {},
     "output_type": "execute_result"
    }
   ],
   "source": [
    "combine.dropna()['Position_Type'].value_counts()"
   ]
  },
  {
   "cell_type": "code",
   "execution_count": 19,
   "id": "b629c55a",
   "metadata": {
    "scrolled": false
   },
   "outputs": [
    {
     "data": {
      "text/plain": [
       "WR     154\n",
       "CB     151\n",
       "OT     120\n",
       "DE     107\n",
       "DT     106\n",
       "OLB    103\n",
       "RB     101\n",
       "TE      78\n",
       "OG      77\n",
       "ILB     45\n",
       "FS      39\n",
       "C       38\n",
       "SS      34\n",
       "FB      18\n",
       "S        7\n",
       "QB       1\n",
       "Name: Position, dtype: int64"
      ]
     },
     "execution_count": 19,
     "metadata": {},
     "output_type": "execute_result"
    }
   ],
   "source": [
    "combine.dropna()['Position'].value_counts()"
   ]
  },
  {
   "cell_type": "code",
   "execution_count": 20,
   "id": "05cccfd1",
   "metadata": {},
   "outputs": [],
   "source": [
    "combine_qb = combine[combine['Position'] == 'QB'].drop(['Bench_Press_Reps'], axis=1).dropna()\n",
    "combine_rb_fb = combine[combine['Position'].isin(['RB', 'FB'])].drop(['Agility_3cone', 'Shuttle'], axis=1).dropna()\n",
    "combine_wr_te = combine[combine['Position'].isin(['WR', 'TE'])].dropna()\n",
    "combine_ol = combine[combine['Position_Type'] == 'offensive_lineman'].dropna()\n",
    "combine_db = combine[combine['Position_Type'] == 'defensive_back'].dropna()\n",
    "combine_lb = combine[combine['Position_Type'] == 'line_backer'].dropna()\n",
    "combine_dl = combine[combine['Position_Type'] == 'defensive_lineman'].dropna()"
   ]
  },
  {
   "cell_type": "code",
   "execution_count": 21,
   "id": "74b41191",
   "metadata": {},
   "outputs": [],
   "source": [
    "qb_x = combine_qb[['Age', 'Height', 'Weight', 'Sprint_40yd', 'Vertical_Jump', 'Broad_Jump', 'Agility_3cone', 'Shuttle', 'BMI']]\n",
    "qb_y = combine_qb[['Round', 'Pick']]\n",
    "rb_fb_x = combine_rb_fb[['Age', 'Height', 'Weight', 'Sprint_40yd', 'Vertical_Jump', 'Bench_Press_Reps', 'Broad_Jump', 'BMI']]\n",
    "rb_fb_y = combine_rb_fb[['Round', 'Pick']]\n",
    "wr_te_x = combine_wr_te[['Age', 'Height', 'Weight', 'Sprint_40yd', 'Vertical_Jump', 'Bench_Press_Reps', 'Broad_Jump', 'Agility_3cone', 'Shuttle', 'BMI']]\n",
    "wr_te_y = combine_wr_te[['Round', 'Pick']]\n",
    "ol_x = combine_ol[['Age', 'Height', 'Weight', 'Sprint_40yd', 'Vertical_Jump', 'Bench_Press_Reps', 'Broad_Jump', 'Agility_3cone', 'Shuttle', 'BMI']]\n",
    "ol_y = combine_ol[['Round', 'Pick']]\n",
    "db_x = combine_db[['Age', 'Height', 'Weight', 'Sprint_40yd', 'Vertical_Jump', 'Bench_Press_Reps', 'Broad_Jump', 'Agility_3cone', 'Shuttle', 'BMI']]\n",
    "db_y = combine_db[['Round', 'Pick']]\n",
    "lb_x = combine_lb[['Age', 'Height', 'Weight', 'Sprint_40yd', 'Vertical_Jump', 'Bench_Press_Reps', 'Broad_Jump', 'Agility_3cone', 'Shuttle', 'BMI']]\n",
    "lb_y = combine_lb[['Round', 'Pick']]\n",
    "dl_x = combine_dl[['Age', 'Height', 'Weight', 'Sprint_40yd', 'Vertical_Jump', 'Bench_Press_Reps', 'Broad_Jump', 'Agility_3cone', 'Shuttle', 'BMI']]\n",
    "dl_y = combine_dl[['Round', 'Pick']]"
   ]
  },
  {
   "cell_type": "code",
   "execution_count": 22,
   "id": "c3136ffb",
   "metadata": {},
   "outputs": [],
   "source": [
    "qb_x_train, qb_x_test, qb_y_train, qb_y_test = train_test_split(qb_x, qb_y, test_size=0.33)\n",
    "rb_fb_x_train, rb_fb_x_test, rb_fb_y_train, rb_fb_y_test = train_test_split(rb_fb_x, rb_fb_y, test_size=0.33)\n",
    "wr_te_x_train, wr_te_x_test, wr_te_y_train, wr_te_y_test = train_test_split(wr_te_x, wr_te_y, test_size=0.33)\n",
    "ol_x_train, ol_x_test, ol_y_train, ol_y_test = train_test_split(ol_x, ol_y, test_size=0.33)\n",
    "db_x_train, db_x_test, db_y_train, db_y_test = train_test_split(db_x, db_y, test_size=0.33)\n",
    "lb_x_train, lb_x_test, lb_y_train, lb_y_test = train_test_split(lb_x, lb_y, test_size=0.33)\n",
    "dl_x_train, dl_x_test, dl_y_train, dl_y_test = train_test_split(dl_x, dl_y, test_size=0.33)"
   ]
  },
  {
   "cell_type": "markdown",
   "id": "98c147de",
   "metadata": {},
   "source": [
    "QBs"
   ]
  },
  {
   "cell_type": "code",
   "execution_count": 23,
   "id": "d789b4ba",
   "metadata": {},
   "outputs": [],
   "source": [
    "QB_Scaler = StandardScaler()\n",
    "qb_x_train = QB_Scaler.fit_transform(qb_x_train)\n",
    "qb_x_test = QB_Scaler.transform(qb_x_test)"
   ]
  },
  {
   "cell_type": "code",
   "execution_count": 24,
   "id": "a133f80d",
   "metadata": {},
   "outputs": [
    {
     "data": {
      "text/plain": [
       "LinearRegression()"
      ]
     },
     "execution_count": 24,
     "metadata": {},
     "output_type": "execute_result"
    }
   ],
   "source": [
    "QB_Pick_Model = LinearRegression()\n",
    "QB_Pick_Model.fit(qb_x_train, qb_y_train['Pick'])"
   ]
  },
  {
   "cell_type": "code",
   "execution_count": 25,
   "id": "3dfccf45",
   "metadata": {},
   "outputs": [
    {
     "data": {
      "text/plain": [
       "6168.595080177197"
      ]
     },
     "execution_count": 25,
     "metadata": {},
     "output_type": "execute_result"
    }
   ],
   "source": [
    "metrics.mean_squared_error(qb_y_test['Pick'], QB_Pick_Model.predict(qb_x_test))"
   ]
  },
  {
   "cell_type": "code",
   "execution_count": 26,
   "id": "663ebdeb",
   "metadata": {},
   "outputs": [
    {
     "data": {
      "text/plain": [
       "0.06584335880298053"
      ]
     },
     "execution_count": 26,
     "metadata": {},
     "output_type": "execute_result"
    }
   ],
   "source": [
    "metrics.r2_score(qb_y_test['Pick'], QB_Pick_Model.predict(qb_x_test))"
   ]
  },
  {
   "cell_type": "code",
   "execution_count": 27,
   "id": "e935ebf6",
   "metadata": {},
   "outputs": [
    {
     "data": {
      "text/plain": [
       "LogisticRegression()"
      ]
     },
     "execution_count": 27,
     "metadata": {},
     "output_type": "execute_result"
    }
   ],
   "source": [
    "QB_Round_Model = LogisticRegression()\n",
    "QB_Round_Model.fit(qb_x_train, qb_y_train['Round'])"
   ]
  },
  {
   "cell_type": "code",
   "execution_count": 28,
   "id": "46948839",
   "metadata": {},
   "outputs": [
    {
     "data": {
      "text/plain": [
       "0.20689655172413793"
      ]
     },
     "execution_count": 28,
     "metadata": {},
     "output_type": "execute_result"
    }
   ],
   "source": [
    "metrics.accuracy_score(qb_y_test['Round'], QB_Round_Model.predict(qb_x_test))"
   ]
  },
  {
   "cell_type": "code",
   "execution_count": 29,
   "id": "7a574558",
   "metadata": {},
   "outputs": [
    {
     "data": {
      "text/plain": [
       "array([[6, 0, 0, 1, 0, 0, 0],\n",
       "       [0, 0, 0, 0, 0, 1, 0],\n",
       "       [0, 0, 0, 0, 0, 1, 0],\n",
       "       [1, 0, 1, 0, 0, 2, 0],\n",
       "       [2, 0, 1, 2, 0, 0, 0],\n",
       "       [0, 1, 3, 2, 0, 0, 0],\n",
       "       [0, 1, 2, 1, 1, 0, 0]], dtype=int64)"
      ]
     },
     "execution_count": 29,
     "metadata": {},
     "output_type": "execute_result"
    }
   ],
   "source": [
    "metrics.confusion_matrix(qb_y_test['Round'], QB_Round_Model.predict(qb_x_test))"
   ]
  },
  {
   "cell_type": "markdown",
   "id": "7e8eb6a5",
   "metadata": {},
   "source": [
    "RBs + FBs"
   ]
  },
  {
   "cell_type": "code",
   "execution_count": 30,
   "id": "20b5ad16",
   "metadata": {},
   "outputs": [],
   "source": [
    "RB_FB_Scaler = StandardScaler()\n",
    "rb_fb_x_train = RB_FB_Scaler.fit_transform(rb_fb_x_train)\n",
    "rb_fb_x_test = RB_FB_Scaler.transform(rb_fb_x_test)"
   ]
  },
  {
   "cell_type": "code",
   "execution_count": 31,
   "id": "f8b08de6",
   "metadata": {},
   "outputs": [
    {
     "data": {
      "text/plain": [
       "LinearRegression()"
      ]
     },
     "execution_count": 31,
     "metadata": {},
     "output_type": "execute_result"
    }
   ],
   "source": [
    "RB_FB_Pick_Model = LinearRegression()\n",
    "RB_FB_Pick_Model.fit(rb_fb_x_train, rb_fb_y_train['Pick'])"
   ]
  },
  {
   "cell_type": "code",
   "execution_count": 32,
   "id": "ac2d324f",
   "metadata": {},
   "outputs": [
    {
     "data": {
      "text/plain": [
       "4424.533721388701"
      ]
     },
     "execution_count": 32,
     "metadata": {},
     "output_type": "execute_result"
    }
   ],
   "source": [
    "metrics.mean_squared_error(rb_fb_y_test['Pick'], RB_FB_Pick_Model.predict(rb_fb_x_test))"
   ]
  },
  {
   "cell_type": "code",
   "execution_count": 33,
   "id": "102892fe",
   "metadata": {},
   "outputs": [
    {
     "data": {
      "text/plain": [
       "-0.1348519725481725"
      ]
     },
     "execution_count": 33,
     "metadata": {},
     "output_type": "execute_result"
    }
   ],
   "source": [
    "metrics.r2_score(rb_fb_y_test['Pick'], RB_FB_Pick_Model.predict(rb_fb_x_test))"
   ]
  },
  {
   "cell_type": "code",
   "execution_count": 34,
   "id": "3a4b5864",
   "metadata": {},
   "outputs": [
    {
     "data": {
      "text/plain": [
       "LogisticRegression()"
      ]
     },
     "execution_count": 34,
     "metadata": {},
     "output_type": "execute_result"
    }
   ],
   "source": [
    "RB_FB_Round_Model = LogisticRegression()\n",
    "RB_FB_Round_Model.fit(rb_fb_x_train, rb_fb_y_train['Round'])"
   ]
  },
  {
   "cell_type": "code",
   "execution_count": 35,
   "id": "657a4b76",
   "metadata": {},
   "outputs": [
    {
     "data": {
      "text/plain": [
       "0.1320754716981132"
      ]
     },
     "execution_count": 35,
     "metadata": {},
     "output_type": "execute_result"
    }
   ],
   "source": [
    "metrics.accuracy_score(rb_fb_y_test['Round'], RB_FB_Round_Model.predict(rb_fb_x_test))"
   ]
  },
  {
   "cell_type": "code",
   "execution_count": 36,
   "id": "d3cb88b9",
   "metadata": {},
   "outputs": [
    {
     "data": {
      "text/plain": [
       "array([[0, 2, 3, 2, 1, 0, 1],\n",
       "       [0, 2, 1, 1, 1, 0, 2],\n",
       "       [0, 1, 2, 1, 0, 0, 2],\n",
       "       [0, 1, 2, 1, 5, 3, 1],\n",
       "       [0, 1, 1, 2, 2, 1, 1],\n",
       "       [0, 0, 1, 1, 4, 0, 2],\n",
       "       [0, 0, 0, 0, 2, 0, 0]], dtype=int64)"
      ]
     },
     "execution_count": 36,
     "metadata": {},
     "output_type": "execute_result"
    }
   ],
   "source": [
    "metrics.confusion_matrix(rb_fb_y_test['Round'], RB_FB_Round_Model.predict(rb_fb_x_test))"
   ]
  },
  {
   "cell_type": "markdown",
   "id": "e9138bd1",
   "metadata": {},
   "source": [
    "WRs + TEs"
   ]
  },
  {
   "cell_type": "code",
   "execution_count": 37,
   "id": "eb377f38",
   "metadata": {},
   "outputs": [],
   "source": [
    "WR_TE_Scaler = StandardScaler()\n",
    "wr_te_x_train = WR_TE_Scaler.fit_transform(wr_te_x_train)\n",
    "wr_te_x_test = WR_TE_Scaler.transform(wr_te_x_test)"
   ]
  },
  {
   "cell_type": "code",
   "execution_count": 38,
   "id": "b88cc9dd",
   "metadata": {},
   "outputs": [
    {
     "data": {
      "text/plain": [
       "LinearRegression()"
      ]
     },
     "execution_count": 38,
     "metadata": {},
     "output_type": "execute_result"
    }
   ],
   "source": [
    "WR_TE_Pick_Model = LinearRegression()\n",
    "WR_TE_Pick_Model.fit(wr_te_x_train, wr_te_y_train['Pick'])"
   ]
  },
  {
   "cell_type": "code",
   "execution_count": 39,
   "id": "1552966c",
   "metadata": {},
   "outputs": [
    {
     "data": {
      "text/plain": [
       "5204.571124539734"
      ]
     },
     "execution_count": 39,
     "metadata": {},
     "output_type": "execute_result"
    }
   ],
   "source": [
    "metrics.mean_squared_error(wr_te_y_test['Pick'], WR_TE_Pick_Model.predict(wr_te_x_test))"
   ]
  },
  {
   "cell_type": "code",
   "execution_count": 40,
   "id": "d48238f9",
   "metadata": {},
   "outputs": [
    {
     "data": {
      "text/plain": [
       "-0.09587055281571177"
      ]
     },
     "execution_count": 40,
     "metadata": {},
     "output_type": "execute_result"
    }
   ],
   "source": [
    "metrics.r2_score(wr_te_y_test['Pick'], WR_TE_Pick_Model.predict(wr_te_x_test))"
   ]
  },
  {
   "cell_type": "code",
   "execution_count": 41,
   "id": "3b72b66c",
   "metadata": {},
   "outputs": [
    {
     "data": {
      "text/plain": [
       "LogisticRegression()"
      ]
     },
     "execution_count": 41,
     "metadata": {},
     "output_type": "execute_result"
    }
   ],
   "source": [
    "WR_TE_Round_Model = LogisticRegression()\n",
    "WR_TE_Round_Model.fit(wr_te_x_train, wr_te_y_train['Round'])"
   ]
  },
  {
   "cell_type": "code",
   "execution_count": 42,
   "id": "fac87c64",
   "metadata": {},
   "outputs": [
    {
     "data": {
      "text/plain": [
       "0.2077922077922078"
      ]
     },
     "execution_count": 42,
     "metadata": {},
     "output_type": "execute_result"
    }
   ],
   "source": [
    "metrics.accuracy_score(wr_te_y_test['Round'], WR_TE_Round_Model.predict(wr_te_x_test))"
   ]
  },
  {
   "cell_type": "code",
   "execution_count": 43,
   "id": "2e698c4e",
   "metadata": {},
   "outputs": [
    {
     "data": {
      "text/plain": [
       "array([[1, 3, 1, 1, 0, 1, 0],\n",
       "       [1, 3, 1, 1, 0, 1, 0],\n",
       "       [1, 3, 2, 8, 0, 2, 1],\n",
       "       [1, 1, 1, 7, 1, 1, 2],\n",
       "       [0, 2, 1, 4, 3, 1, 0],\n",
       "       [2, 1, 1, 3, 2, 0, 0],\n",
       "       [2, 2, 4, 2, 1, 1, 0]], dtype=int64)"
      ]
     },
     "execution_count": 43,
     "metadata": {},
     "output_type": "execute_result"
    }
   ],
   "source": [
    "metrics.confusion_matrix(wr_te_y_test['Round'], WR_TE_Round_Model.predict(wr_te_x_test))"
   ]
  },
  {
   "cell_type": "markdown",
   "id": "0ac5d254",
   "metadata": {},
   "source": [
    "OL"
   ]
  },
  {
   "cell_type": "code",
   "execution_count": 44,
   "id": "c8b8a252",
   "metadata": {},
   "outputs": [],
   "source": [
    "OL_Scaler = StandardScaler()\n",
    "ol_x_train = OL_Scaler.fit_transform(ol_x_train)\n",
    "ol_x_test = OL_Scaler.transform(ol_x_test)"
   ]
  },
  {
   "cell_type": "code",
   "execution_count": 45,
   "id": "a484a08c",
   "metadata": {},
   "outputs": [
    {
     "data": {
      "text/plain": [
       "LinearRegression()"
      ]
     },
     "execution_count": 45,
     "metadata": {},
     "output_type": "execute_result"
    }
   ],
   "source": [
    "OL_Pick_Model = LinearRegression()\n",
    "OL_Pick_Model.fit(ol_x_train, ol_y_train['Pick'])"
   ]
  },
  {
   "cell_type": "code",
   "execution_count": 46,
   "id": "70b7b7cb",
   "metadata": {},
   "outputs": [
    {
     "data": {
      "text/plain": [
       "5452.241498515569"
      ]
     },
     "execution_count": 46,
     "metadata": {},
     "output_type": "execute_result"
    }
   ],
   "source": [
    "metrics.mean_squared_error(ol_y_test['Pick'], OL_Pick_Model.predict(ol_x_test))"
   ]
  },
  {
   "cell_type": "code",
   "execution_count": 47,
   "id": "3019da91",
   "metadata": {},
   "outputs": [
    {
     "data": {
      "text/plain": [
       "-0.06282614010218568"
      ]
     },
     "execution_count": 47,
     "metadata": {},
     "output_type": "execute_result"
    }
   ],
   "source": [
    "metrics.r2_score(ol_y_test['Pick'], OL_Pick_Model.predict(ol_x_test))"
   ]
  },
  {
   "cell_type": "code",
   "execution_count": 48,
   "id": "ae70e4e3",
   "metadata": {},
   "outputs": [
    {
     "data": {
      "text/plain": [
       "LogisticRegression()"
      ]
     },
     "execution_count": 48,
     "metadata": {},
     "output_type": "execute_result"
    }
   ],
   "source": [
    "OL_Round_Model = LogisticRegression()\n",
    "OL_Round_Model.fit(ol_x_train, ol_y_train['Round'])"
   ]
  },
  {
   "cell_type": "code",
   "execution_count": 49,
   "id": "9e560448",
   "metadata": {},
   "outputs": [
    {
     "data": {
      "text/plain": [
       "0.1794871794871795"
      ]
     },
     "execution_count": 49,
     "metadata": {},
     "output_type": "execute_result"
    }
   ],
   "source": [
    "metrics.accuracy_score(ol_y_test['Round'], OL_Round_Model.predict(ol_x_test))"
   ]
  },
  {
   "cell_type": "code",
   "execution_count": 50,
   "id": "10405b61",
   "metadata": {},
   "outputs": [
    {
     "data": {
      "text/plain": [
       "array([[ 4,  7,  0,  0,  2,  0,  1],\n",
       "       [ 2,  3,  3,  0,  3,  1,  0],\n",
       "       [ 0,  1,  1,  1,  4,  1,  0],\n",
       "       [ 1,  3,  1,  0, 10,  2,  1],\n",
       "       [ 1,  2,  1,  0,  2,  2,  0],\n",
       "       [ 1,  2,  1,  1,  1,  2,  0],\n",
       "       [ 3,  2,  0,  0,  2,  1,  2]], dtype=int64)"
      ]
     },
     "execution_count": 50,
     "metadata": {},
     "output_type": "execute_result"
    }
   ],
   "source": [
    "metrics.confusion_matrix(ol_y_test['Round'], OL_Round_Model.predict(ol_x_test))"
   ]
  },
  {
   "cell_type": "markdown",
   "id": "2e809e72",
   "metadata": {},
   "source": [
    "DBs"
   ]
  },
  {
   "cell_type": "code",
   "execution_count": 51,
   "id": "fbb13bc2",
   "metadata": {},
   "outputs": [],
   "source": [
    "DB_Scaler = StandardScaler()\n",
    "db_x_train = DB_Scaler.fit_transform(db_x_train)\n",
    "db_x_test = DB_Scaler.transform(db_x_test)"
   ]
  },
  {
   "cell_type": "code",
   "execution_count": 52,
   "id": "1932b292",
   "metadata": {},
   "outputs": [
    {
     "data": {
      "text/plain": [
       "LinearRegression()"
      ]
     },
     "execution_count": 52,
     "metadata": {},
     "output_type": "execute_result"
    }
   ],
   "source": [
    "DB_Pick_Model = LinearRegression()\n",
    "DB_Pick_Model.fit(db_x_train, db_y_train['Pick'])"
   ]
  },
  {
   "cell_type": "code",
   "execution_count": 53,
   "id": "cc9524a1",
   "metadata": {},
   "outputs": [
    {
     "data": {
      "text/plain": [
       "3132.1612728766777"
      ]
     },
     "execution_count": 53,
     "metadata": {},
     "output_type": "execute_result"
    }
   ],
   "source": [
    "metrics.mean_squared_error(db_y_test['Pick'], DB_Pick_Model.predict(db_x_test))"
   ]
  },
  {
   "cell_type": "code",
   "execution_count": 54,
   "id": "38670bea",
   "metadata": {},
   "outputs": [
    {
     "data": {
      "text/plain": [
       "0.06484314700717808"
      ]
     },
     "execution_count": 54,
     "metadata": {},
     "output_type": "execute_result"
    }
   ],
   "source": [
    "metrics.r2_score(db_y_test['Pick'], DB_Pick_Model.predict(db_x_test))"
   ]
  },
  {
   "cell_type": "code",
   "execution_count": 55,
   "id": "4d0da83f",
   "metadata": {},
   "outputs": [
    {
     "data": {
      "text/plain": [
       "LogisticRegression()"
      ]
     },
     "execution_count": 55,
     "metadata": {},
     "output_type": "execute_result"
    }
   ],
   "source": [
    "DB_Round_Model = LogisticRegression()\n",
    "DB_Round_Model.fit(db_x_train, db_y_train['Round'])"
   ]
  },
  {
   "cell_type": "code",
   "execution_count": 56,
   "id": "53be901c",
   "metadata": {},
   "outputs": [
    {
     "data": {
      "text/plain": [
       "0.2077922077922078"
      ]
     },
     "execution_count": 56,
     "metadata": {},
     "output_type": "execute_result"
    }
   ],
   "source": [
    "metrics.accuracy_score(db_y_test['Round'], DB_Round_Model.predict(db_x_test))"
   ]
  },
  {
   "cell_type": "code",
   "execution_count": 57,
   "id": "7e0128d3",
   "metadata": {},
   "outputs": [
    {
     "data": {
      "text/plain": [
       "array([[4, 3, 0, 1, 0, 0, 0],\n",
       "       [0, 1, 3, 1, 0, 0, 1],\n",
       "       [2, 6, 5, 3, 1, 1, 0],\n",
       "       [0, 6, 2, 3, 3, 0, 2],\n",
       "       [0, 6, 1, 2, 1, 1, 5],\n",
       "       [0, 3, 1, 0, 1, 1, 1],\n",
       "       [0, 2, 3, 0, 0, 0, 1]], dtype=int64)"
      ]
     },
     "execution_count": 57,
     "metadata": {},
     "output_type": "execute_result"
    }
   ],
   "source": [
    "metrics.confusion_matrix(db_y_test['Round'], DB_Round_Model.predict(db_x_test))"
   ]
  },
  {
   "cell_type": "markdown",
   "id": "978a39c6",
   "metadata": {},
   "source": [
    "LBs"
   ]
  },
  {
   "cell_type": "code",
   "execution_count": 58,
   "id": "e425405a",
   "metadata": {},
   "outputs": [],
   "source": [
    "LB_Scaler = StandardScaler()\n",
    "lb_x_train = LB_Scaler.fit_transform(lb_x_train)\n",
    "lb_x_test = LB_Scaler.transform(lb_x_test)"
   ]
  },
  {
   "cell_type": "code",
   "execution_count": 59,
   "id": "e0cc921c",
   "metadata": {},
   "outputs": [
    {
     "data": {
      "text/plain": [
       "LinearRegression()"
      ]
     },
     "execution_count": 59,
     "metadata": {},
     "output_type": "execute_result"
    }
   ],
   "source": [
    "LB_Pick_Model = LinearRegression()\n",
    "LB_Pick_Model.fit(lb_x_train, lb_y_train['Pick'])"
   ]
  },
  {
   "cell_type": "code",
   "execution_count": 60,
   "id": "165bcfd2",
   "metadata": {},
   "outputs": [
    {
     "data": {
      "text/plain": [
       "3431.056700570933"
      ]
     },
     "execution_count": 60,
     "metadata": {},
     "output_type": "execute_result"
    }
   ],
   "source": [
    "metrics.mean_squared_error(lb_y_test['Pick'], LB_Pick_Model.predict(lb_x_test))"
   ]
  },
  {
   "cell_type": "code",
   "execution_count": 61,
   "id": "307ae02e",
   "metadata": {},
   "outputs": [
    {
     "data": {
      "text/plain": [
       "0.2305714175969512"
      ]
     },
     "execution_count": 61,
     "metadata": {},
     "output_type": "execute_result"
    }
   ],
   "source": [
    "metrics.r2_score(lb_y_test['Pick'], LB_Pick_Model.predict(lb_x_test))"
   ]
  },
  {
   "cell_type": "code",
   "execution_count": 62,
   "id": "1350ea3d",
   "metadata": {},
   "outputs": [
    {
     "data": {
      "text/plain": [
       "LogisticRegression()"
      ]
     },
     "execution_count": 62,
     "metadata": {},
     "output_type": "execute_result"
    }
   ],
   "source": [
    "LB_Round_Model = LogisticRegression()\n",
    "LB_Round_Model.fit(lb_x_train, lb_y_train['Round'])"
   ]
  },
  {
   "cell_type": "code",
   "execution_count": 63,
   "id": "90d69878",
   "metadata": {},
   "outputs": [
    {
     "data": {
      "text/plain": [
       "0.20408163265306123"
      ]
     },
     "execution_count": 63,
     "metadata": {},
     "output_type": "execute_result"
    }
   ],
   "source": [
    "metrics.accuracy_score(lb_y_test['Round'], LB_Round_Model.predict(lb_x_test))"
   ]
  },
  {
   "cell_type": "code",
   "execution_count": 64,
   "id": "08ea301a",
   "metadata": {},
   "outputs": [
    {
     "data": {
      "text/plain": [
       "array([[4, 2, 2, 1, 0, 0, 0],\n",
       "       [0, 0, 3, 0, 0, 0, 0],\n",
       "       [1, 1, 1, 2, 0, 0, 0],\n",
       "       [2, 0, 2, 1, 1, 1, 4],\n",
       "       [0, 1, 1, 3, 0, 0, 4],\n",
       "       [0, 1, 1, 1, 1, 2, 2],\n",
       "       [0, 0, 1, 1, 0, 0, 2]], dtype=int64)"
      ]
     },
     "execution_count": 64,
     "metadata": {},
     "output_type": "execute_result"
    }
   ],
   "source": [
    "metrics.confusion_matrix(lb_y_test['Round'], LB_Round_Model.predict(lb_x_test))"
   ]
  },
  {
   "cell_type": "markdown",
   "id": "95a4462a",
   "metadata": {},
   "source": [
    "DL"
   ]
  },
  {
   "cell_type": "code",
   "execution_count": 65,
   "id": "08add89a",
   "metadata": {},
   "outputs": [],
   "source": [
    "DL_Scaler = StandardScaler()\n",
    "dl_x_train = DL_Scaler.fit_transform(dl_x_train)\n",
    "dl_x_test = DL_Scaler.transform(dl_x_test)"
   ]
  },
  {
   "cell_type": "code",
   "execution_count": 66,
   "id": "406ff93c",
   "metadata": {},
   "outputs": [
    {
     "data": {
      "text/plain": [
       "LinearRegression()"
      ]
     },
     "execution_count": 66,
     "metadata": {},
     "output_type": "execute_result"
    }
   ],
   "source": [
    "DL_Pick_Model = LinearRegression()\n",
    "DL_Pick_Model.fit(dl_x_train, dl_y_train['Pick'])"
   ]
  },
  {
   "cell_type": "code",
   "execution_count": 67,
   "id": "785cb200",
   "metadata": {},
   "outputs": [
    {
     "data": {
      "text/plain": [
       "4131.066394693904"
      ]
     },
     "execution_count": 67,
     "metadata": {},
     "output_type": "execute_result"
    }
   ],
   "source": [
    "metrics.mean_squared_error(dl_y_test['Pick'], DL_Pick_Model.predict(dl_x_test))"
   ]
  },
  {
   "cell_type": "code",
   "execution_count": 68,
   "id": "2dd4962a",
   "metadata": {},
   "outputs": [
    {
     "data": {
      "text/plain": [
       "0.27200862822142147"
      ]
     },
     "execution_count": 68,
     "metadata": {},
     "output_type": "execute_result"
    }
   ],
   "source": [
    "metrics.r2_score(dl_y_test['Pick'], DL_Pick_Model.predict(dl_x_test))"
   ]
  },
  {
   "cell_type": "code",
   "execution_count": 69,
   "id": "77b2c7c7",
   "metadata": {},
   "outputs": [
    {
     "data": {
      "text/plain": [
       "LogisticRegression()"
      ]
     },
     "execution_count": 69,
     "metadata": {},
     "output_type": "execute_result"
    }
   ],
   "source": [
    "DL_Round_Model = LogisticRegression()\n",
    "DL_Round_Model.fit(dl_x_train, dl_y_train['Round'])"
   ]
  },
  {
   "cell_type": "code",
   "execution_count": 70,
   "id": "0b580029",
   "metadata": {},
   "outputs": [
    {
     "data": {
      "text/plain": [
       "0.22535211267605634"
      ]
     },
     "execution_count": 70,
     "metadata": {},
     "output_type": "execute_result"
    }
   ],
   "source": [
    "metrics.accuracy_score(dl_y_test['Round'], DL_Round_Model.predict(dl_x_test))"
   ]
  },
  {
   "cell_type": "code",
   "execution_count": 71,
   "id": "3180e9c2",
   "metadata": {},
   "outputs": [
    {
     "data": {
      "text/plain": [
       "array([[5, 2, 6, 1, 0, 0, 0],\n",
       "       [2, 4, 1, 1, 0, 0, 0],\n",
       "       [6, 4, 6, 3, 1, 1, 2],\n",
       "       [3, 1, 1, 0, 0, 0, 0],\n",
       "       [0, 1, 3, 0, 0, 0, 0],\n",
       "       [0, 2, 3, 2, 0, 0, 0],\n",
       "       [1, 1, 2, 0, 0, 5, 1]], dtype=int64)"
      ]
     },
     "execution_count": 71,
     "metadata": {},
     "output_type": "execute_result"
    }
   ],
   "source": [
    "metrics.confusion_matrix(dl_y_test['Round'], DL_Round_Model.predict(dl_x_test))"
   ]
  },
  {
   "cell_type": "code",
   "execution_count": null,
   "id": "c314647a",
   "metadata": {},
   "outputs": [],
   "source": []
  },
  {
   "cell_type": "code",
   "execution_count": 72,
   "id": "cc9f30c4",
   "metadata": {},
   "outputs": [
    {
     "data": {
      "text/plain": [
       "<AxesSubplot:xlabel='Position'>"
      ]
     },
     "execution_count": 72,
     "metadata": {},
     "output_type": "execute_result"
    },
    {
     "data": {
      "image/png": "[encoded data removed]",
      "text/plain": [
       "<Figure size 640x480 with 1 Axes>"
      ]
     },
     "metadata": {},
     "output_type": "display_data"
    }
   ],
   "source": [
    "combine[['Position']].value_counts(sort=False).plot.bar()"
   ]
  },
  {
   "cell_type": "code",
   "execution_count": 73,
   "id": "3317671a",
   "metadata": {},
   "outputs": [
    {
     "data": {
      "text/plain": [
       "<AxesSubplot:xlabel='Position_Type'>"
      ]
     },
     "execution_count": 73,
     "metadata": {},
     "output_type": "execute_result"
    },
    {
     "data": {
      "image/png": "[encoded data removed]",
      "text/plain": [
       "<Figure size 640x480 with 1 Axes>"
      ]
     },
     "metadata": {},
     "output_type": "display_data"
    }
   ],
   "source": [
    "combine[['Position_Type']].value_counts(sort=False).plot.bar()"
   ]
  },
  {
   "cell_type": "code",
   "execution_count": 74,
   "id": "7648c896",
   "metadata": {},
   "outputs": [
    {
     "data": {
      "text/plain": [
       "<AxesSubplot:ylabel='Frequency'>"
      ]
     },
     "execution_count": 74,
     "metadata": {},
     "output_type": "execute_result"
    },
    {
     "data": {
      "image/png": "[encoded data removed]",
      "text/plain": [
       "<Figure size 640x480 with 1 Axes>"
      ]
     },
     "metadata": {},
     "output_type": "display_data"
    }
   ],
   "source": [
    "combine[combine['Position'].isin(['WR', 'TE'])][['Sprint_40yd']].plot.hist()"
   ]
  }
 ],
 "metadata": {
  "kernelspec": {
   "display_name": "Python 3 (ipykernel)",
   "language": "python",
   "name": "python3"
  },
  "language_info": {
   "codemirror_mode": {
    "name": "ipython",
    "version": 3
   },
   "file_extension": ".py",
   "mimetype": "text/x-python",
   "name": "python",
   "nbconvert_exporter": "python",
   "pygments_lexer": "ipython3",
   "version": "3.9.13"
  }
 },
 "nbformat": 4,
 "nbformat_minor": 5
}
